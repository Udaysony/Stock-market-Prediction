{
  "nbformat": 4,
  "nbformat_minor": 0,
  "metadata": {
    "colab": {
      "name": "Stock prediction.ipynb",
      "provenance": []
    },
    "kernelspec": {
      "name": "python3",
      "display_name": "Python 3"
    }
  },
  "cells": [
    {
      "cell_type": "code",
      "metadata": {
        "id": "AnVVT0IwWiTw",
        "colab_type": "code",
        "colab": {}
      },
      "source": [
        "import pandas as pd\n",
        "import os\n",
        "from sklearn.model_selection import train_test_split\n",
        "import numpy as np\n",
        "from datetime import datetime\n",
        "from sklearn.metrics import mean_squared_error\n",
        "import matplotlib.pyplot as plt "
      ],
      "execution_count": 0,
      "outputs": []
    },
    {
      "cell_type": "code",
      "metadata": {
        "id": "Q8oJ0zejW4Qo",
        "colab_type": "code",
        "outputId": "a1aba69c-9f90-46c5-a61c-aac384a2d23e",
        "colab": {
          "base_uri": "https://localhost:8080/",
          "height": 35
        }
      },
      "source": [
        "from google.colab import drive\n",
        "drive.mount('/content/gdrive')"
      ],
      "execution_count": 4,
      "outputs": [
        {
          "output_type": "stream",
          "text": [
            "Drive already mounted at /content/gdrive; to attempt to forcibly remount, call drive.mount(\"/content/gdrive\", force_remount=True).\n"
          ],
          "name": "stdout"
        }
      ]
    },
    {
      "cell_type": "code",
      "metadata": {
        "id": "w23UjJzKW0en",
        "colab_type": "code",
        "outputId": "f327396a-1024-4653-aab4-a375ece0ffd6",
        "colab": {
          "base_uri": "https://localhost:8080/",
          "height": 35
        }
      },
      "source": [
        "data_path = \"/content/gdrive/My Drive/stock prediction/\"\n",
        "df = pd.read_csv(os.path.join(data_path, \"gogl.us.txt\"))\n",
        "print(df.shape)\n"
      ],
      "execution_count": 177,
      "outputs": [
        {
          "output_type": "stream",
          "text": [
            "(3201, 7)\n"
          ],
          "name": "stdout"
        }
      ]
    },
    {
      "cell_type": "code",
      "metadata": {
        "id": "gIPTYwCsYXGH",
        "colab_type": "code",
        "outputId": "9e04e280-98e3-4e89-afa5-e037e4bc701d",
        "colab": {
          "base_uri": "https://localhost:8080/",
          "height": 665
        }
      },
      "source": [
        "df.head(20)"
      ],
      "execution_count": 178,
      "outputs": [
        {
          "output_type": "execute_result",
          "data": {
            "text/html": [
              "<div>\n",
              "<style scoped>\n",
              "    .dataframe tbody tr th:only-of-type {\n",
              "        vertical-align: middle;\n",
              "    }\n",
              "\n",
              "    .dataframe tbody tr th {\n",
              "        vertical-align: top;\n",
              "    }\n",
              "\n",
              "    .dataframe thead th {\n",
              "        text-align: right;\n",
              "    }\n",
              "</style>\n",
              "<table border=\"1\" class=\"dataframe\">\n",
              "  <thead>\n",
              "    <tr style=\"text-align: right;\">\n",
              "      <th></th>\n",
              "      <th>Date</th>\n",
              "      <th>Open</th>\n",
              "      <th>High</th>\n",
              "      <th>Low</th>\n",
              "      <th>Close</th>\n",
              "      <th>Volume</th>\n",
              "      <th>OpenInt</th>\n",
              "    </tr>\n",
              "  </thead>\n",
              "  <tbody>\n",
              "    <tr>\n",
              "      <th>0</th>\n",
              "      <td>2005-02-25</td>\n",
              "      <td>141.94</td>\n",
              "      <td>143.84</td>\n",
              "      <td>141.20</td>\n",
              "      <td>143.18</td>\n",
              "      <td>89902</td>\n",
              "      <td>0</td>\n",
              "    </tr>\n",
              "    <tr>\n",
              "      <th>1</th>\n",
              "      <td>2005-02-28</td>\n",
              "      <td>143.70</td>\n",
              "      <td>147.19</td>\n",
              "      <td>139.47</td>\n",
              "      <td>143.14</td>\n",
              "      <td>124965</td>\n",
              "      <td>0</td>\n",
              "    </tr>\n",
              "    <tr>\n",
              "      <th>2</th>\n",
              "      <td>2005-03-01</td>\n",
              "      <td>141.79</td>\n",
              "      <td>142.57</td>\n",
              "      <td>131.36</td>\n",
              "      <td>134.50</td>\n",
              "      <td>229663</td>\n",
              "      <td>0</td>\n",
              "    </tr>\n",
              "    <tr>\n",
              "      <th>3</th>\n",
              "      <td>2005-03-02</td>\n",
              "      <td>135.27</td>\n",
              "      <td>139.11</td>\n",
              "      <td>135.06</td>\n",
              "      <td>137.56</td>\n",
              "      <td>88113</td>\n",
              "      <td>0</td>\n",
              "    </tr>\n",
              "    <tr>\n",
              "      <th>4</th>\n",
              "      <td>2005-03-03</td>\n",
              "      <td>138.59</td>\n",
              "      <td>138.59</td>\n",
              "      <td>132.24</td>\n",
              "      <td>134.89</td>\n",
              "      <td>120294</td>\n",
              "      <td>0</td>\n",
              "    </tr>\n",
              "    <tr>\n",
              "      <th>5</th>\n",
              "      <td>2005-03-04</td>\n",
              "      <td>134.00</td>\n",
              "      <td>137.00</td>\n",
              "      <td>133.34</td>\n",
              "      <td>136.47</td>\n",
              "      <td>68711</td>\n",
              "      <td>0</td>\n",
              "    </tr>\n",
              "    <tr>\n",
              "      <th>6</th>\n",
              "      <td>2005-03-07</td>\n",
              "      <td>136.66</td>\n",
              "      <td>137.35</td>\n",
              "      <td>134.18</td>\n",
              "      <td>135.06</td>\n",
              "      <td>81653</td>\n",
              "      <td>0</td>\n",
              "    </tr>\n",
              "    <tr>\n",
              "      <th>7</th>\n",
              "      <td>2005-03-08</td>\n",
              "      <td>134.36</td>\n",
              "      <td>134.78</td>\n",
              "      <td>130.41</td>\n",
              "      <td>130.54</td>\n",
              "      <td>150554</td>\n",
              "      <td>0</td>\n",
              "    </tr>\n",
              "    <tr>\n",
              "      <th>8</th>\n",
              "      <td>2005-03-09</td>\n",
              "      <td>130.72</td>\n",
              "      <td>132.17</td>\n",
              "      <td>127.52</td>\n",
              "      <td>129.21</td>\n",
              "      <td>131825</td>\n",
              "      <td>0</td>\n",
              "    </tr>\n",
              "    <tr>\n",
              "      <th>9</th>\n",
              "      <td>2005-03-10</td>\n",
              "      <td>129.21</td>\n",
              "      <td>129.21</td>\n",
              "      <td>119.22</td>\n",
              "      <td>121.95</td>\n",
              "      <td>312669</td>\n",
              "      <td>0</td>\n",
              "    </tr>\n",
              "    <tr>\n",
              "      <th>10</th>\n",
              "      <td>2005-03-11</td>\n",
              "      <td>123.92</td>\n",
              "      <td>128.57</td>\n",
              "      <td>123.92</td>\n",
              "      <td>126.67</td>\n",
              "      <td>128252</td>\n",
              "      <td>0</td>\n",
              "    </tr>\n",
              "    <tr>\n",
              "      <th>11</th>\n",
              "      <td>2005-03-14</td>\n",
              "      <td>126.21</td>\n",
              "      <td>134.14</td>\n",
              "      <td>126.21</td>\n",
              "      <td>132.70</td>\n",
              "      <td>129956</td>\n",
              "      <td>0</td>\n",
              "    </tr>\n",
              "    <tr>\n",
              "      <th>12</th>\n",
              "      <td>2005-03-15</td>\n",
              "      <td>135.06</td>\n",
              "      <td>135.76</td>\n",
              "      <td>130.34</td>\n",
              "      <td>131.78</td>\n",
              "      <td>107714</td>\n",
              "      <td>0</td>\n",
              "    </tr>\n",
              "    <tr>\n",
              "      <th>13</th>\n",
              "      <td>2005-03-16</td>\n",
              "      <td>133.97</td>\n",
              "      <td>133.97</td>\n",
              "      <td>131.36</td>\n",
              "      <td>132.77</td>\n",
              "      <td>46989</td>\n",
              "      <td>0</td>\n",
              "    </tr>\n",
              "    <tr>\n",
              "      <th>14</th>\n",
              "      <td>2005-03-17</td>\n",
              "      <td>134.92</td>\n",
              "      <td>138.66</td>\n",
              "      <td>133.70</td>\n",
              "      <td>137.60</td>\n",
              "      <td>103390</td>\n",
              "      <td>0</td>\n",
              "    </tr>\n",
              "    <tr>\n",
              "      <th>15</th>\n",
              "      <td>2005-03-18</td>\n",
              "      <td>137.71</td>\n",
              "      <td>139.89</td>\n",
              "      <td>134.57</td>\n",
              "      <td>137.39</td>\n",
              "      <td>101266</td>\n",
              "      <td>0</td>\n",
              "    </tr>\n",
              "    <tr>\n",
              "      <th>16</th>\n",
              "      <td>2005-03-21</td>\n",
              "      <td>139.57</td>\n",
              "      <td>139.82</td>\n",
              "      <td>136.76</td>\n",
              "      <td>138.59</td>\n",
              "      <td>66254</td>\n",
              "      <td>0</td>\n",
              "    </tr>\n",
              "    <tr>\n",
              "      <th>17</th>\n",
              "      <td>2005-03-22</td>\n",
              "      <td>138.23</td>\n",
              "      <td>139.78</td>\n",
              "      <td>136.47</td>\n",
              "      <td>136.82</td>\n",
              "      <td>65005</td>\n",
              "      <td>0</td>\n",
              "    </tr>\n",
              "    <tr>\n",
              "      <th>18</th>\n",
              "      <td>2005-03-23</td>\n",
              "      <td>136.12</td>\n",
              "      <td>136.66</td>\n",
              "      <td>131.72</td>\n",
              "      <td>132.67</td>\n",
              "      <td>80143</td>\n",
              "      <td>0</td>\n",
              "    </tr>\n",
              "    <tr>\n",
              "      <th>19</th>\n",
              "      <td>2005-03-24</td>\n",
              "      <td>132.59</td>\n",
              "      <td>135.31</td>\n",
              "      <td>131.54</td>\n",
              "      <td>133.70</td>\n",
              "      <td>49002</td>\n",
              "      <td>0</td>\n",
              "    </tr>\n",
              "  </tbody>\n",
              "</table>\n",
              "</div>"
            ],
            "text/plain": [
              "          Date    Open    High     Low   Close  Volume  OpenInt\n",
              "0   2005-02-25  141.94  143.84  141.20  143.18   89902        0\n",
              "1   2005-02-28  143.70  147.19  139.47  143.14  124965        0\n",
              "2   2005-03-01  141.79  142.57  131.36  134.50  229663        0\n",
              "3   2005-03-02  135.27  139.11  135.06  137.56   88113        0\n",
              "4   2005-03-03  138.59  138.59  132.24  134.89  120294        0\n",
              "5   2005-03-04  134.00  137.00  133.34  136.47   68711        0\n",
              "6   2005-03-07  136.66  137.35  134.18  135.06   81653        0\n",
              "7   2005-03-08  134.36  134.78  130.41  130.54  150554        0\n",
              "8   2005-03-09  130.72  132.17  127.52  129.21  131825        0\n",
              "9   2005-03-10  129.21  129.21  119.22  121.95  312669        0\n",
              "10  2005-03-11  123.92  128.57  123.92  126.67  128252        0\n",
              "11  2005-03-14  126.21  134.14  126.21  132.70  129956        0\n",
              "12  2005-03-15  135.06  135.76  130.34  131.78  107714        0\n",
              "13  2005-03-16  133.97  133.97  131.36  132.77   46989        0\n",
              "14  2005-03-17  134.92  138.66  133.70  137.60  103390        0\n",
              "15  2005-03-18  137.71  139.89  134.57  137.39  101266        0\n",
              "16  2005-03-21  139.57  139.82  136.76  138.59   66254        0\n",
              "17  2005-03-22  138.23  139.78  136.47  136.82   65005        0\n",
              "18  2005-03-23  136.12  136.66  131.72  132.67   80143        0\n",
              "19  2005-03-24  132.59  135.31  131.54  133.70   49002        0"
            ]
          },
          "metadata": {
            "tags": []
          },
          "execution_count": 178
        }
      ]
    },
    {
      "cell_type": "code",
      "metadata": {
        "id": "OzmdF2Hd6I9-",
        "colab_type": "code",
        "colab": {}
      },
      "source": [
        "df.drop(df.index[[0,1,2,3,4,5]], inplace = True)"
      ],
      "execution_count": 0,
      "outputs": []
    },
    {
      "cell_type": "code",
      "metadata": {
        "id": "X5XYZwgA5KY5",
        "colab_type": "code",
        "colab": {
          "base_uri": "https://localhost:8080/",
          "height": 203
        },
        "outputId": "438472a4-70f3-4d82-fdf6-1316de299732"
      },
      "source": [
        "df.head(5) # Now data is in sequence of 5 days , Monday to Friday"
      ],
      "execution_count": 181,
      "outputs": [
        {
          "output_type": "execute_result",
          "data": {
            "text/html": [
              "<div>\n",
              "<style scoped>\n",
              "    .dataframe tbody tr th:only-of-type {\n",
              "        vertical-align: middle;\n",
              "    }\n",
              "\n",
              "    .dataframe tbody tr th {\n",
              "        vertical-align: top;\n",
              "    }\n",
              "\n",
              "    .dataframe thead th {\n",
              "        text-align: right;\n",
              "    }\n",
              "</style>\n",
              "<table border=\"1\" class=\"dataframe\">\n",
              "  <thead>\n",
              "    <tr style=\"text-align: right;\">\n",
              "      <th></th>\n",
              "      <th>Date</th>\n",
              "      <th>Open</th>\n",
              "      <th>High</th>\n",
              "      <th>Low</th>\n",
              "      <th>Close</th>\n",
              "      <th>Volume</th>\n",
              "      <th>OpenInt</th>\n",
              "    </tr>\n",
              "  </thead>\n",
              "  <tbody>\n",
              "    <tr>\n",
              "      <th>6</th>\n",
              "      <td>2005-03-07</td>\n",
              "      <td>136.66</td>\n",
              "      <td>137.35</td>\n",
              "      <td>134.18</td>\n",
              "      <td>135.06</td>\n",
              "      <td>81653</td>\n",
              "      <td>0</td>\n",
              "    </tr>\n",
              "    <tr>\n",
              "      <th>7</th>\n",
              "      <td>2005-03-08</td>\n",
              "      <td>134.36</td>\n",
              "      <td>134.78</td>\n",
              "      <td>130.41</td>\n",
              "      <td>130.54</td>\n",
              "      <td>150554</td>\n",
              "      <td>0</td>\n",
              "    </tr>\n",
              "    <tr>\n",
              "      <th>8</th>\n",
              "      <td>2005-03-09</td>\n",
              "      <td>130.72</td>\n",
              "      <td>132.17</td>\n",
              "      <td>127.52</td>\n",
              "      <td>129.21</td>\n",
              "      <td>131825</td>\n",
              "      <td>0</td>\n",
              "    </tr>\n",
              "    <tr>\n",
              "      <th>9</th>\n",
              "      <td>2005-03-10</td>\n",
              "      <td>129.21</td>\n",
              "      <td>129.21</td>\n",
              "      <td>119.22</td>\n",
              "      <td>121.95</td>\n",
              "      <td>312669</td>\n",
              "      <td>0</td>\n",
              "    </tr>\n",
              "    <tr>\n",
              "      <th>10</th>\n",
              "      <td>2005-03-11</td>\n",
              "      <td>123.92</td>\n",
              "      <td>128.57</td>\n",
              "      <td>123.92</td>\n",
              "      <td>126.67</td>\n",
              "      <td>128252</td>\n",
              "      <td>0</td>\n",
              "    </tr>\n",
              "  </tbody>\n",
              "</table>\n",
              "</div>"
            ],
            "text/plain": [
              "          Date    Open    High     Low   Close  Volume  OpenInt\n",
              "6   2005-03-07  136.66  137.35  134.18  135.06   81653        0\n",
              "7   2005-03-08  134.36  134.78  130.41  130.54  150554        0\n",
              "8   2005-03-09  130.72  132.17  127.52  129.21  131825        0\n",
              "9   2005-03-10  129.21  129.21  119.22  121.95  312669        0\n",
              "10  2005-03-11  123.92  128.57  123.92  126.67  128252        0"
            ]
          },
          "metadata": {
            "tags": []
          },
          "execution_count": 181
        }
      ]
    },
    {
      "cell_type": "code",
      "metadata": {
        "id": "qW2aBp_XrveV",
        "colab_type": "code",
        "colab": {
          "base_uri": "https://localhost:8080/",
          "height": 203
        },
        "outputId": "6db1885a-354a-41b2-93e1-3347ef4c4d88"
      },
      "source": [
        "df.drop([\"Date\", \"OpenInt\"], axis = 1, inplace = True)\n",
        "df.head()"
      ],
      "execution_count": 182,
      "outputs": [
        {
          "output_type": "execute_result",
          "data": {
            "text/html": [
              "<div>\n",
              "<style scoped>\n",
              "    .dataframe tbody tr th:only-of-type {\n",
              "        vertical-align: middle;\n",
              "    }\n",
              "\n",
              "    .dataframe tbody tr th {\n",
              "        vertical-align: top;\n",
              "    }\n",
              "\n",
              "    .dataframe thead th {\n",
              "        text-align: right;\n",
              "    }\n",
              "</style>\n",
              "<table border=\"1\" class=\"dataframe\">\n",
              "  <thead>\n",
              "    <tr style=\"text-align: right;\">\n",
              "      <th></th>\n",
              "      <th>Open</th>\n",
              "      <th>High</th>\n",
              "      <th>Low</th>\n",
              "      <th>Close</th>\n",
              "      <th>Volume</th>\n",
              "    </tr>\n",
              "  </thead>\n",
              "  <tbody>\n",
              "    <tr>\n",
              "      <th>6</th>\n",
              "      <td>136.66</td>\n",
              "      <td>137.35</td>\n",
              "      <td>134.18</td>\n",
              "      <td>135.06</td>\n",
              "      <td>81653</td>\n",
              "    </tr>\n",
              "    <tr>\n",
              "      <th>7</th>\n",
              "      <td>134.36</td>\n",
              "      <td>134.78</td>\n",
              "      <td>130.41</td>\n",
              "      <td>130.54</td>\n",
              "      <td>150554</td>\n",
              "    </tr>\n",
              "    <tr>\n",
              "      <th>8</th>\n",
              "      <td>130.72</td>\n",
              "      <td>132.17</td>\n",
              "      <td>127.52</td>\n",
              "      <td>129.21</td>\n",
              "      <td>131825</td>\n",
              "    </tr>\n",
              "    <tr>\n",
              "      <th>9</th>\n",
              "      <td>129.21</td>\n",
              "      <td>129.21</td>\n",
              "      <td>119.22</td>\n",
              "      <td>121.95</td>\n",
              "      <td>312669</td>\n",
              "    </tr>\n",
              "    <tr>\n",
              "      <th>10</th>\n",
              "      <td>123.92</td>\n",
              "      <td>128.57</td>\n",
              "      <td>123.92</td>\n",
              "      <td>126.67</td>\n",
              "      <td>128252</td>\n",
              "    </tr>\n",
              "  </tbody>\n",
              "</table>\n",
              "</div>"
            ],
            "text/plain": [
              "      Open    High     Low   Close  Volume\n",
              "6   136.66  137.35  134.18  135.06   81653\n",
              "7   134.36  134.78  130.41  130.54  150554\n",
              "8   130.72  132.17  127.52  129.21  131825\n",
              "9   129.21  129.21  119.22  121.95  312669\n",
              "10  123.92  128.57  123.92  126.67  128252"
            ]
          },
          "metadata": {
            "tags": []
          },
          "execution_count": 182
        }
      ]
    },
    {
      "cell_type": "code",
      "metadata": {
        "id": "eayF27op5gKy",
        "colab_type": "code",
        "colab": {}
      },
      "source": [
        ""
      ],
      "execution_count": 0,
      "outputs": []
    },
    {
      "cell_type": "code",
      "metadata": {
        "id": "g277i7Nw5R4A",
        "colab_type": "code",
        "colab": {}
      },
      "source": [
        ""
      ],
      "execution_count": 0,
      "outputs": []
    },
    {
      "cell_type": "code",
      "metadata": {
        "id": "vuX9Ub0M0J55",
        "colab_type": "code",
        "colab": {}
      },
      "source": [
        "x_columns = ['Open', 'High', 'Low', 'Volume']\n",
        "y_columns = ['Close']\n",
        "x_data_original = df[x_columns]\n",
        "y_data_original = df[y_columns]"
      ],
      "execution_count": 0,
      "outputs": []
    },
    {
      "cell_type": "code",
      "metadata": {
        "id": "yc5BJKoJ0tij",
        "colab_type": "code",
        "outputId": "52e88f97-ee9d-42bb-95d6-377fd182f306",
        "colab": {
          "base_uri": "https://localhost:8080/",
          "height": 203
        }
      },
      "source": [
        "x_data_original.head()"
      ],
      "execution_count": 184,
      "outputs": [
        {
          "output_type": "execute_result",
          "data": {
            "text/html": [
              "<div>\n",
              "<style scoped>\n",
              "    .dataframe tbody tr th:only-of-type {\n",
              "        vertical-align: middle;\n",
              "    }\n",
              "\n",
              "    .dataframe tbody tr th {\n",
              "        vertical-align: top;\n",
              "    }\n",
              "\n",
              "    .dataframe thead th {\n",
              "        text-align: right;\n",
              "    }\n",
              "</style>\n",
              "<table border=\"1\" class=\"dataframe\">\n",
              "  <thead>\n",
              "    <tr style=\"text-align: right;\">\n",
              "      <th></th>\n",
              "      <th>Open</th>\n",
              "      <th>High</th>\n",
              "      <th>Low</th>\n",
              "      <th>Volume</th>\n",
              "    </tr>\n",
              "  </thead>\n",
              "  <tbody>\n",
              "    <tr>\n",
              "      <th>6</th>\n",
              "      <td>136.66</td>\n",
              "      <td>137.35</td>\n",
              "      <td>134.18</td>\n",
              "      <td>81653</td>\n",
              "    </tr>\n",
              "    <tr>\n",
              "      <th>7</th>\n",
              "      <td>134.36</td>\n",
              "      <td>134.78</td>\n",
              "      <td>130.41</td>\n",
              "      <td>150554</td>\n",
              "    </tr>\n",
              "    <tr>\n",
              "      <th>8</th>\n",
              "      <td>130.72</td>\n",
              "      <td>132.17</td>\n",
              "      <td>127.52</td>\n",
              "      <td>131825</td>\n",
              "    </tr>\n",
              "    <tr>\n",
              "      <th>9</th>\n",
              "      <td>129.21</td>\n",
              "      <td>129.21</td>\n",
              "      <td>119.22</td>\n",
              "      <td>312669</td>\n",
              "    </tr>\n",
              "    <tr>\n",
              "      <th>10</th>\n",
              "      <td>123.92</td>\n",
              "      <td>128.57</td>\n",
              "      <td>123.92</td>\n",
              "      <td>128252</td>\n",
              "    </tr>\n",
              "  </tbody>\n",
              "</table>\n",
              "</div>"
            ],
            "text/plain": [
              "      Open    High     Low  Volume\n",
              "6   136.66  137.35  134.18   81653\n",
              "7   134.36  134.78  130.41  150554\n",
              "8   130.72  132.17  127.52  131825\n",
              "9   129.21  129.21  119.22  312669\n",
              "10  123.92  128.57  123.92  128252"
            ]
          },
          "metadata": {
            "tags": []
          },
          "execution_count": 184
        }
      ]
    },
    {
      "cell_type": "code",
      "metadata": {
        "id": "wnJ2riPw00El",
        "colab_type": "code",
        "outputId": "68c45a33-9c32-4ec3-f211-7444113b3953",
        "colab": {
          "base_uri": "https://localhost:8080/",
          "height": 105
        }
      },
      "source": [
        "from sklearn.preprocessing import MinMaxScaler\n",
        "scaler = MinMaxScaler()\n",
        "x_data = scaler.fit_transform(x_data_original)\n",
        "# y_data = scaler.fit_transform(y_data_original)\n",
        "y_data = y_data_original.values\n",
        "print(x_data[0:5])"
      ],
      "execution_count": 185,
      "outputs": [
        {
          "output_type": "stream",
          "text": [
            "[[0.82169354 0.8168843  0.81895104 0.03513489]\n",
            " [0.8075909  0.80127543 0.79549555 0.06762313]\n",
            " [0.78527194 0.78542363 0.77751509 0.05879202]\n",
            " [0.77601324 0.7674461  0.72587569 0.1440637 ]\n",
            " [0.74357717 0.76355906 0.75511728 0.05710728]]\n"
          ],
          "name": "stdout"
        }
      ]
    },
    {
      "cell_type": "code",
      "metadata": {
        "id": "BqmD3UAsstJZ",
        "colab_type": "code",
        "colab": {}
      },
      "source": [
        ""
      ],
      "execution_count": 0,
      "outputs": []
    },
    {
      "cell_type": "markdown",
      "metadata": {
        "id": "WgV9Cf1pyrHM",
        "colab_type": "text"
      },
      "source": [
        "***Neural Network***"
      ]
    },
    {
      "cell_type": "code",
      "metadata": {
        "id": "KVikKocQ3A1V",
        "colab_type": "code",
        "colab": {}
      },
      "source": [
        "from sklearn import metrics\n",
        "from keras.models import Sequential\n",
        "from keras.layers.core import Dense, Activation, Dropout\n",
        "from keras.callbacks import EarlyStopping\n",
        "from keras.callbacks import ModelCheckpoint\n",
        "from keras.utils import to_categorical\n",
        "from datetime import datetime\n",
        "from keras import regularizers"
      ],
      "execution_count": 0,
      "outputs": []
    },
    {
      "cell_type": "code",
      "metadata": {
        "id": "3QKG9GmnQEbT",
        "colab_type": "code",
        "colab": {}
      },
      "source": [
        "from keras.layers.recurrent import LSTM, RNN\n",
        "import sys"
      ],
      "execution_count": 0,
      "outputs": []
    },
    {
      "cell_type": "markdown",
      "metadata": {
        "id": "1-h8d15D1iZN",
        "colab_type": "text"
      },
      "source": [
        "## **LSTM**"
      ]
    },
    {
      "cell_type": "code",
      "metadata": {
        "id": "f2u0i01-2DSD",
        "colab_type": "code",
        "colab": {}
      },
      "source": [
        "def to_sequences(seq_size, data):\n",
        "    x = []\n",
        "    y = []\n",
        "\n",
        "    for i in range(len(data)-seq_size-1):\n",
        "        #print(i)\n",
        "        window = data.iloc[i:(i+seq_size),:].values\n",
        "        after_window = data.iloc[i+seq_size,-1]\n",
        "        window = [x for x in window]\n",
        "        #print(\"{} - {}\".format(window,after_window))\n",
        "#         x.append(scaler.fit_transform(window))\n",
        "        x.append(window)\n",
        "        y.append(after_window)\n",
        "    print(np.array(x).shape)\n",
        "    return np.array(x),np.array(y)"
      ],
      "execution_count": 0,
      "outputs": []
    },
    {
      "cell_type": "code",
      "metadata": {
        "id": "yjNKLiqd2q3L",
        "colab_type": "code",
        "colab": {}
      },
      "source": [
        "lstm_df = pd.DataFrame(np.hstack([x_data,y_data])) # combining normalized data and the target (\"Close\" price)."
      ],
      "execution_count": 0,
      "outputs": []
    },
    {
      "cell_type": "code",
      "metadata": {
        "id": "lgdkTONbuC7z",
        "colab_type": "code",
        "colab": {
          "base_uri": "https://localhost:8080/",
          "height": 203
        },
        "outputId": "ec84d025-b9ab-48a2-b9ce-15462d9de91d"
      },
      "source": [
        "lstm_df.head()"
      ],
      "execution_count": 191,
      "outputs": [
        {
          "output_type": "execute_result",
          "data": {
            "text/html": [
              "<div>\n",
              "<style scoped>\n",
              "    .dataframe tbody tr th:only-of-type {\n",
              "        vertical-align: middle;\n",
              "    }\n",
              "\n",
              "    .dataframe tbody tr th {\n",
              "        vertical-align: top;\n",
              "    }\n",
              "\n",
              "    .dataframe thead th {\n",
              "        text-align: right;\n",
              "    }\n",
              "</style>\n",
              "<table border=\"1\" class=\"dataframe\">\n",
              "  <thead>\n",
              "    <tr style=\"text-align: right;\">\n",
              "      <th></th>\n",
              "      <th>0</th>\n",
              "      <th>1</th>\n",
              "      <th>2</th>\n",
              "      <th>3</th>\n",
              "      <th>4</th>\n",
              "    </tr>\n",
              "  </thead>\n",
              "  <tbody>\n",
              "    <tr>\n",
              "      <th>0</th>\n",
              "      <td>0.821694</td>\n",
              "      <td>0.816884</td>\n",
              "      <td>0.818951</td>\n",
              "      <td>0.035135</td>\n",
              "      <td>135.06</td>\n",
              "    </tr>\n",
              "    <tr>\n",
              "      <th>1</th>\n",
              "      <td>0.807591</td>\n",
              "      <td>0.801275</td>\n",
              "      <td>0.795496</td>\n",
              "      <td>0.067623</td>\n",
              "      <td>130.54</td>\n",
              "    </tr>\n",
              "    <tr>\n",
              "      <th>2</th>\n",
              "      <td>0.785272</td>\n",
              "      <td>0.785424</td>\n",
              "      <td>0.777515</td>\n",
              "      <td>0.058792</td>\n",
              "      <td>129.21</td>\n",
              "    </tr>\n",
              "    <tr>\n",
              "      <th>3</th>\n",
              "      <td>0.776013</td>\n",
              "      <td>0.767446</td>\n",
              "      <td>0.725876</td>\n",
              "      <td>0.144064</td>\n",
              "      <td>121.95</td>\n",
              "    </tr>\n",
              "    <tr>\n",
              "      <th>4</th>\n",
              "      <td>0.743577</td>\n",
              "      <td>0.763559</td>\n",
              "      <td>0.755117</td>\n",
              "      <td>0.057107</td>\n",
              "      <td>126.67</td>\n",
              "    </tr>\n",
              "  </tbody>\n",
              "</table>\n",
              "</div>"
            ],
            "text/plain": [
              "          0         1         2         3       4\n",
              "0  0.821694  0.816884  0.818951  0.035135  135.06\n",
              "1  0.807591  0.801275  0.795496  0.067623  130.54\n",
              "2  0.785272  0.785424  0.777515  0.058792  129.21\n",
              "3  0.776013  0.767446  0.725876  0.144064  121.95\n",
              "4  0.743577  0.763559  0.755117  0.057107  126.67"
            ]
          },
          "metadata": {
            "tags": []
          },
          "execution_count": 191
        }
      ]
    },
    {
      "cell_type": "code",
      "metadata": {
        "id": "OngZ146HuF3k",
        "colab_type": "code",
        "colab": {}
      },
      "source": [
        "train = lstm_df[:int(len(lstm_df)*0.7)]\n",
        "test = lstm_df[int(len(lstm_df)*0.7):]"
      ],
      "execution_count": 0,
      "outputs": []
    },
    {
      "cell_type": "code",
      "metadata": {
        "id": "vhn44Lvh4zJ9",
        "colab_type": "code",
        "outputId": "2e7a6a4c-555d-4a31-b76b-b7e8d3159bf9",
        "colab": {
          "base_uri": "https://localhost:8080/",
          "height": 357
        }
      },
      "source": [
        "train.head(10)"
      ],
      "execution_count": 193,
      "outputs": [
        {
          "output_type": "execute_result",
          "data": {
            "text/html": [
              "<div>\n",
              "<style scoped>\n",
              "    .dataframe tbody tr th:only-of-type {\n",
              "        vertical-align: middle;\n",
              "    }\n",
              "\n",
              "    .dataframe tbody tr th {\n",
              "        vertical-align: top;\n",
              "    }\n",
              "\n",
              "    .dataframe thead th {\n",
              "        text-align: right;\n",
              "    }\n",
              "</style>\n",
              "<table border=\"1\" class=\"dataframe\">\n",
              "  <thead>\n",
              "    <tr style=\"text-align: right;\">\n",
              "      <th></th>\n",
              "      <th>0</th>\n",
              "      <th>1</th>\n",
              "      <th>2</th>\n",
              "      <th>3</th>\n",
              "      <th>4</th>\n",
              "    </tr>\n",
              "  </thead>\n",
              "  <tbody>\n",
              "    <tr>\n",
              "      <th>0</th>\n",
              "      <td>0.821694</td>\n",
              "      <td>0.816884</td>\n",
              "      <td>0.818951</td>\n",
              "      <td>0.035135</td>\n",
              "      <td>135.06</td>\n",
              "    </tr>\n",
              "    <tr>\n",
              "      <th>1</th>\n",
              "      <td>0.807591</td>\n",
              "      <td>0.801275</td>\n",
              "      <td>0.795496</td>\n",
              "      <td>0.067623</td>\n",
              "      <td>130.54</td>\n",
              "    </tr>\n",
              "    <tr>\n",
              "      <th>2</th>\n",
              "      <td>0.785272</td>\n",
              "      <td>0.785424</td>\n",
              "      <td>0.777515</td>\n",
              "      <td>0.058792</td>\n",
              "      <td>129.21</td>\n",
              "    </tr>\n",
              "    <tr>\n",
              "      <th>3</th>\n",
              "      <td>0.776013</td>\n",
              "      <td>0.767446</td>\n",
              "      <td>0.725876</td>\n",
              "      <td>0.144064</td>\n",
              "      <td>121.95</td>\n",
              "    </tr>\n",
              "    <tr>\n",
              "      <th>4</th>\n",
              "      <td>0.743577</td>\n",
              "      <td>0.763559</td>\n",
              "      <td>0.755117</td>\n",
              "      <td>0.057107</td>\n",
              "      <td>126.67</td>\n",
              "    </tr>\n",
              "    <tr>\n",
              "      <th>5</th>\n",
              "      <td>0.757618</td>\n",
              "      <td>0.797388</td>\n",
              "      <td>0.769365</td>\n",
              "      <td>0.057911</td>\n",
              "      <td>132.70</td>\n",
              "    </tr>\n",
              "    <tr>\n",
              "      <th>6</th>\n",
              "      <td>0.811883</td>\n",
              "      <td>0.807227</td>\n",
              "      <td>0.795060</td>\n",
              "      <td>0.047423</td>\n",
              "      <td>131.78</td>\n",
              "    </tr>\n",
              "    <tr>\n",
              "      <th>7</th>\n",
              "      <td>0.805200</td>\n",
              "      <td>0.796356</td>\n",
              "      <td>0.801406</td>\n",
              "      <td>0.018790</td>\n",
              "      <td>132.77</td>\n",
              "    </tr>\n",
              "    <tr>\n",
              "      <th>8</th>\n",
              "      <td>0.811025</td>\n",
              "      <td>0.824841</td>\n",
              "      <td>0.815965</td>\n",
              "      <td>0.045384</td>\n",
              "      <td>137.60</td>\n",
              "    </tr>\n",
              "    <tr>\n",
              "      <th>9</th>\n",
              "      <td>0.828132</td>\n",
              "      <td>0.832311</td>\n",
              "      <td>0.821377</td>\n",
              "      <td>0.044383</td>\n",
              "      <td>137.39</td>\n",
              "    </tr>\n",
              "  </tbody>\n",
              "</table>\n",
              "</div>"
            ],
            "text/plain": [
              "          0         1         2         3       4\n",
              "0  0.821694  0.816884  0.818951  0.035135  135.06\n",
              "1  0.807591  0.801275  0.795496  0.067623  130.54\n",
              "2  0.785272  0.785424  0.777515  0.058792  129.21\n",
              "3  0.776013  0.767446  0.725876  0.144064  121.95\n",
              "4  0.743577  0.763559  0.755117  0.057107  126.67\n",
              "5  0.757618  0.797388  0.769365  0.057911  132.70\n",
              "6  0.811883  0.807227  0.795060  0.047423  131.78\n",
              "7  0.805200  0.796356  0.801406  0.018790  132.77\n",
              "8  0.811025  0.824841  0.815965  0.045384  137.60\n",
              "9  0.828132  0.832311  0.821377  0.044383  137.39"
            ]
          },
          "metadata": {
            "tags": []
          },
          "execution_count": 193
        }
      ]
    },
    {
      "cell_type": "code",
      "metadata": {
        "id": "EmpmJMrK4bY1",
        "colab_type": "code",
        "outputId": "81c0b708-5b6b-4697-f1ca-6618e6475a95",
        "colab": {
          "base_uri": "https://localhost:8080/",
          "height": 123
        }
      },
      "source": [
        "SEQUENCE_SIZE = 5\n",
        "x_train,y_train = to_sequences(SEQUENCE_SIZE, train)\n",
        "x_test,y_test = to_sequences(SEQUENCE_SIZE, test)\n",
        "\n",
        "print(\"Shape of x_train: {}\".format(x_train.shape))\n",
        "print(\"Shape of x_test: {}\".format(x_test.shape))\n",
        "print(\"Shape of y_train: {}\".format(y_train.shape))\n",
        "print(\"Shape of y_test: {}\".format(y_test.shape))"
      ],
      "execution_count": 194,
      "outputs": [
        {
          "output_type": "stream",
          "text": [
            "(2230, 5, 5)\n",
            "(953, 5, 5)\n",
            "Shape of x_train: (2230, 5, 5)\n",
            "Shape of x_test: (953, 5, 5)\n",
            "Shape of y_train: (2230,)\n",
            "Shape of y_test: (953,)\n"
          ],
          "name": "stdout"
        }
      ]
    },
    {
      "cell_type": "code",
      "metadata": {
        "id": "u9m7dLhfsbJ_",
        "colab_type": "code",
        "colab": {
          "base_uri": "https://localhost:8080/",
          "height": 193
        },
        "outputId": "ee323c5a-cc5e-4781-a019-90820097885e"
      },
      "source": [
        "x_train[0]"
      ],
      "execution_count": 195,
      "outputs": [
        {
          "output_type": "execute_result",
          "data": {
            "text/plain": [
              "array([[8.21693543e-01, 8.16884300e-01, 8.18951036e-01, 3.51348879e-02,\n",
              "        1.35060000e+02],\n",
              "       [8.07590901e-01, 8.01275433e-01, 7.95495552e-01, 6.76231305e-02,\n",
              "        1.30540000e+02],\n",
              "       [7.85271936e-01, 7.85423626e-01, 7.77515087e-01, 5.87920207e-02,\n",
              "        1.29210000e+02],\n",
              "       [7.76013244e-01, 7.67446098e-01, 7.25875692e-01, 1.44063697e-01,\n",
              "        1.21950000e+02],\n",
              "       [7.43577166e-01, 7.63559065e-01, 7.55117277e-01, 5.71072775e-02,\n",
              "        1.26670000e+02]])"
            ]
          },
          "metadata": {
            "tags": []
          },
          "execution_count": 195
        }
      ]
    },
    {
      "cell_type": "code",
      "metadata": {
        "id": "wzWgh1L75GSz",
        "colab_type": "code",
        "colab": {
          "base_uri": "https://localhost:8080/",
          "height": 35
        },
        "outputId": "d4225c17-a78e-43ac-856d-6df02be6bccf"
      },
      "source": [
        "y_train[0]"
      ],
      "execution_count": 196,
      "outputs": [
        {
          "output_type": "execute_result",
          "data": {
            "text/plain": [
              "132.7"
            ]
          },
          "metadata": {
            "tags": []
          },
          "execution_count": 196
        }
      ]
    },
    {
      "cell_type": "code",
      "metadata": {
        "id": "tku1Cp6c5qx8",
        "colab_type": "code",
        "outputId": "3e9ad8ee-b9c9-4057-923d-ba6bfca3b90e",
        "colab": {
          "base_uri": "https://localhost:8080/",
          "height": 1000
        }
      },
      "source": [
        "model = Sequential()\n",
        "model.add(LSTM(200, dropout=0.0, recurrent_dropout=0.0, input_shape=(SEQUENCE_SIZE, 5), activation = \"relu\")) \n",
        "model.add(Dense(100, activation =\"relu\"))\n",
        "model.add(Dense(1))\n",
        "model.compile(loss='mean_squared_error', optimizer='adam')\n",
        "\n",
        "monitor = EarlyStopping(monitor='val_loss', min_delta=0.01, patience=10, verbose=20, mode='auto')\n",
        "# t1= datetime.now()\n",
        "history = model.fit(x_train,y_train,validation_data=(x_test,y_test),callbacks=[monitor],verbose=1, epochs=200) \n",
        "# train_time = datetime.now() - t1"
      ],
      "execution_count": 229,
      "outputs": [
        {
          "output_type": "stream",
          "text": [
            "Train on 2230 samples, validate on 953 samples\n",
            "Epoch 1/200\n",
            "2230/2230 [==============================] - 5s 2ms/step - loss: 455.4165 - val_loss: 9.4201\n",
            "Epoch 2/200\n",
            "2230/2230 [==============================] - 1s 578us/step - loss: 10.2250 - val_loss: 9.1604\n",
            "Epoch 3/200\n",
            "2230/2230 [==============================] - 1s 564us/step - loss: 11.0154 - val_loss: 8.1632\n",
            "Epoch 4/200\n",
            "2230/2230 [==============================] - 1s 569us/step - loss: 10.8741 - val_loss: 7.7819\n",
            "Epoch 5/200\n",
            "2230/2230 [==============================] - 1s 574us/step - loss: 8.9018 - val_loss: 7.1351\n",
            "Epoch 6/200\n",
            "2230/2230 [==============================] - 1s 588us/step - loss: 7.7027 - val_loss: 6.7193\n",
            "Epoch 7/200\n",
            "2230/2230 [==============================] - 1s 587us/step - loss: 7.7738 - val_loss: 6.2778\n",
            "Epoch 8/200\n",
            "2230/2230 [==============================] - 1s 576us/step - loss: 7.1644 - val_loss: 6.2148\n",
            "Epoch 9/200\n",
            "2230/2230 [==============================] - 1s 574us/step - loss: 6.8929 - val_loss: 5.4806\n",
            "Epoch 10/200\n",
            "2230/2230 [==============================] - 1s 586us/step - loss: 6.2736 - val_loss: 5.4377\n",
            "Epoch 11/200\n",
            "2230/2230 [==============================] - 1s 571us/step - loss: 8.2758 - val_loss: 5.0959\n",
            "Epoch 12/200\n",
            "2230/2230 [==============================] - 1s 585us/step - loss: 6.1655 - val_loss: 4.3450\n",
            "Epoch 13/200\n",
            "2230/2230 [==============================] - 1s 602us/step - loss: 5.9866 - val_loss: 3.8849\n",
            "Epoch 14/200\n",
            "2230/2230 [==============================] - 1s 577us/step - loss: 5.6604 - val_loss: 4.0068\n",
            "Epoch 15/200\n",
            "2230/2230 [==============================] - 1s 577us/step - loss: 6.8077 - val_loss: 3.8024\n",
            "Epoch 16/200\n",
            "2230/2230 [==============================] - 1s 583us/step - loss: 5.8459 - val_loss: 3.7982\n",
            "Epoch 17/200\n",
            "2230/2230 [==============================] - 1s 591us/step - loss: 5.3019 - val_loss: 3.5843\n",
            "Epoch 18/200\n",
            "2230/2230 [==============================] - 1s 584us/step - loss: 5.7013 - val_loss: 3.7316\n",
            "Epoch 19/200\n",
            "2230/2230 [==============================] - 1s 587us/step - loss: 5.5321 - val_loss: 3.6454\n",
            "Epoch 20/200\n",
            "2230/2230 [==============================] - 1s 578us/step - loss: 5.0530 - val_loss: 3.2619\n",
            "Epoch 21/200\n",
            "2230/2230 [==============================] - 1s 599us/step - loss: 5.4830 - val_loss: 3.2876\n",
            "Epoch 22/200\n",
            "2230/2230 [==============================] - 1s 595us/step - loss: 6.3425 - val_loss: 2.9607\n",
            "Epoch 23/200\n",
            "2230/2230 [==============================] - 1s 584us/step - loss: 5.5612 - val_loss: 3.2958\n",
            "Epoch 24/200\n",
            "2230/2230 [==============================] - 1s 598us/step - loss: 5.0489 - val_loss: 3.0874\n",
            "Epoch 25/200\n",
            "2230/2230 [==============================] - 1s 597us/step - loss: 5.6086 - val_loss: 2.3964\n",
            "Epoch 26/200\n",
            "2230/2230 [==============================] - 1s 588us/step - loss: 6.0376 - val_loss: 2.5867\n",
            "Epoch 27/200\n",
            "2230/2230 [==============================] - 1s 589us/step - loss: 5.4653 - val_loss: 2.4759\n",
            "Epoch 28/200\n",
            "2230/2230 [==============================] - 1s 591us/step - loss: 5.7257 - val_loss: 2.4790\n",
            "Epoch 29/200\n",
            "2230/2230 [==============================] - 1s 603us/step - loss: 5.6077 - val_loss: 2.2189\n",
            "Epoch 30/200\n",
            "2230/2230 [==============================] - 1s 593us/step - loss: 5.1122 - val_loss: 2.0806\n",
            "Epoch 31/200\n",
            "2230/2230 [==============================] - 1s 575us/step - loss: 5.0627 - val_loss: 2.0554\n",
            "Epoch 32/200\n",
            "2230/2230 [==============================] - 1s 590us/step - loss: 5.5789 - val_loss: 2.3263\n",
            "Epoch 33/200\n",
            "2230/2230 [==============================] - 1s 574us/step - loss: 5.6809 - val_loss: 2.2565\n",
            "Epoch 34/200\n",
            "2230/2230 [==============================] - 1s 578us/step - loss: 5.5667 - val_loss: 2.6517\n",
            "Epoch 35/200\n",
            "2230/2230 [==============================] - 1s 578us/step - loss: 5.5282 - val_loss: 2.4435\n",
            "Epoch 36/200\n",
            "2230/2230 [==============================] - 1s 573us/step - loss: 5.3637 - val_loss: 1.9658\n",
            "Epoch 37/200\n",
            "2230/2230 [==============================] - 1s 604us/step - loss: 5.0592 - val_loss: 1.9366\n",
            "Epoch 38/200\n",
            "2230/2230 [==============================] - 1s 575us/step - loss: 5.4619 - val_loss: 2.0628\n",
            "Epoch 39/200\n",
            "2230/2230 [==============================] - 1s 583us/step - loss: 5.6602 - val_loss: 1.7891\n",
            "Epoch 40/200\n",
            "2230/2230 [==============================] - 1s 578us/step - loss: 5.9525 - val_loss: 3.4528\n",
            "Epoch 41/200\n",
            "2230/2230 [==============================] - 1s 588us/step - loss: 5.5502 - val_loss: 2.0033\n",
            "Epoch 42/200\n",
            "2230/2230 [==============================] - 1s 590us/step - loss: 5.7810 - val_loss: 2.1558\n",
            "Epoch 43/200\n",
            "2230/2230 [==============================] - 1s 596us/step - loss: 5.7506 - val_loss: 2.2257\n",
            "Epoch 44/200\n",
            "2230/2230 [==============================] - 1s 604us/step - loss: 5.4221 - val_loss: 2.4179\n",
            "Epoch 45/200\n",
            "2230/2230 [==============================] - 1s 607us/step - loss: 5.5283 - val_loss: 3.0986\n",
            "Epoch 46/200\n",
            "2230/2230 [==============================] - 1s 608us/step - loss: 5.5536 - val_loss: 1.9747\n",
            "Epoch 47/200\n",
            "2230/2230 [==============================] - 1s 614us/step - loss: 5.4701 - val_loss: 2.1918\n",
            "Epoch 48/200\n",
            "2230/2230 [==============================] - 1s 586us/step - loss: 6.2114 - val_loss: 2.9332\n",
            "Epoch 49/200\n",
            "2230/2230 [==============================] - 1s 632us/step - loss: 5.3283 - val_loss: 1.7829\n",
            "Epoch 00049: early stopping\n"
          ],
          "name": "stdout"
        }
      ]
    },
    {
      "cell_type": "code",
      "metadata": {
        "id": "-T-JPMfVvWwI",
        "colab_type": "code",
        "colab": {}
      },
      "source": [
        ""
      ],
      "execution_count": 0,
      "outputs": []
    },
    {
      "cell_type": "code",
      "metadata": {
        "id": "oILaAB80uy0M",
        "colab_type": "code",
        "colab": {
          "base_uri": "https://localhost:8080/",
          "height": 263
        },
        "outputId": "979f48d1-f191-45ad-d980-73b5373a9eef"
      },
      "source": [
        "model.summary()"
      ],
      "execution_count": 223,
      "outputs": [
        {
          "output_type": "stream",
          "text": [
            "Model: \"sequential_14\"\n",
            "_________________________________________________________________\n",
            "Layer (type)                 Output Shape              Param #   \n",
            "=================================================================\n",
            "lstm_14 (LSTM)               (None, 200)               164800    \n",
            "_________________________________________________________________\n",
            "dense_27 (Dense)             (None, 100)               20100     \n",
            "_________________________________________________________________\n",
            "dense_28 (Dense)             (None, 1)                 101       \n",
            "=================================================================\n",
            "Total params: 185,001\n",
            "Trainable params: 185,001\n",
            "Non-trainable params: 0\n",
            "_________________________________________________________________\n"
          ],
          "name": "stdout"
        }
      ]
    },
    {
      "cell_type": "code",
      "metadata": {
        "id": "JOsvKVzAHkdX",
        "colab_type": "code",
        "outputId": "1edf9bf2-5801-4c16-8957-329a15f57186",
        "colab": {
          "base_uri": "https://localhost:8080/",
          "height": 295
        }
      },
      "source": [
        "# summarize history for loss\n",
        "plt.plot(history.history['loss'])\n",
        "plt.plot(history.history['val_loss'])\n",
        "plt.title('model loss')\n",
        "plt.ylabel('loss')\n",
        "plt.xlabel('epoch')\n",
        "plt.legend(['train', 'test'], loc='upper right')\n",
        "plt.show()"
      ],
      "execution_count": 230,
      "outputs": [
        {
          "output_type": "display_data",
          "data": {
            "image/png": "[encoded data removed]",
            "text/plain": [
              "<Figure size 432x288 with 1 Axes>"
            ]
          },
          "metadata": {
            "tags": []
          }
        }
      ]
    },
    {
      "cell_type": "code",
      "metadata": {
        "id": "6Hf-wTD8JQ30",
        "colab_type": "code",
        "colab": {}
      },
      "source": [
        "pred = model.predict(x_test)"
      ],
      "execution_count": 0,
      "outputs": []
    },
    {
      "cell_type": "code",
      "metadata": {
        "id": "_8ZoOvomJez0",
        "colab_type": "code",
        "outputId": "8eb21e35-bf43-4a30-83af-14561ed3abfd",
        "colab": {
          "base_uri": "https://localhost:8080/",
          "height": 35
        }
      },
      "source": [
        "from sklearn.metrics import mean_squared_error,r2_score\n",
        "rmse = np.sqrt(mean_squared_error(y_test, pred))\n",
        "print(\"LSTM RMSE\",rmse)\n",
        "# results['LSTM'] = {'RMSE': rmse, 'Training Time': train_time.total_seconds()}"
      ],
      "execution_count": 232,
      "outputs": [
        {
          "output_type": "stream",
          "text": [
            "LSTM RMSE 1.335243029329261\n"
          ],
          "name": "stdout"
        }
      ]
    },
    {
      "cell_type": "code",
      "metadata": {
        "id": "MwGCzpDwwZMq",
        "colab_type": "code",
        "colab": {}
      },
      "source": [
        "# rpred = pred.reshape(pred.shape[0],)\n",
        "# create_lift(outcome=y_test, model_proba=rpred, precision = 2, vis = True)"
      ],
      "execution_count": 0,
      "outputs": []
    },
    {
      "cell_type": "code",
      "metadata": {
        "id": "Itq1emllKW_c",
        "colab_type": "code",
        "outputId": "93c8365f-32e7-4a81-a8b5-98a593467963",
        "colab": {
          "base_uri": "https://localhost:8080/",
          "height": 288
        }
      },
      "source": [
        "aa=[x for x in range(150,200)]\n",
        "plt.plot(aa, y_test[150:200], marker='.', label=\"actual\")\n",
        "plt.plot(aa, pred[150:200], 'r', label=\"prediction\")\n",
        "\n",
        "plt.xlabel('Time step', size=15)\n",
        "plt.legend(fontsize=15)\n",
        "plt.show()\n"
      ],
      "execution_count": 233,
      "outputs": [
        {
          "output_type": "display_data",
          "data": {
            "image/png": "[encoded data removed]",
            "text/plain": [
              "<Figure size 432x288 with 1 Axes>"
            ]
          },
          "metadata": {
            "tags": []
          }
        }
      ]
    },
    {
      "cell_type": "code",
      "metadata": {
        "id": "pP1uNHSRvv_Y",
        "colab_type": "code",
        "colab": {}
      },
      "source": [
        ""
      ],
      "execution_count": 0,
      "outputs": []
    }
  ]
}
