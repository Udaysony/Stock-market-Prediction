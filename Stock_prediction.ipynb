{
  "nbformat": 4,
  "nbformat_minor": 0,
  "metadata": {
    "colab": {
      "name": "Stock prediction.ipynb",
      "provenance": []
    },
    "kernelspec": {
      "name": "python3",
      "display_name": "Python 3"
    }
  },
  "cells": [
    {
      "cell_type": "code",
      "metadata": {
        "id": "AnVVT0IwWiTw",
        "colab_type": "code",
        "colab": {}
      },
      "source": [
        "import pandas as pd\n",
        "import os\n",
        "from sklearn.model_selection import train_test_split\n",
        "import numpy as np\n",
        "from datetime import datetime\n",
        "from sklearn.metrics import mean_squared_error\n",
        "import matplotlib.pyplot as plt "
      ],
      "execution_count": 0,
      "outputs": []
    },
    {
      "cell_type": "code",
      "metadata": {
        "id": "Q8oJ0zejW4Qo",
        "colab_type": "code",
        "outputId": "9064ad78-f4fa-43a7-e0b5-ddbb7182ef07",
        "colab": {
          "base_uri": "https://localhost:8080/",
          "height": 125
        }
      },
      "source": [
        "from google.colab import drive\n",
        "drive.mount('/content/gdrive') # to  113"
      ],
      "execution_count": 2,
      "outputs": [
        {
          "output_type": "stream",
          "text": [
            "Go to this URL in a browser: https://accounts.google.com/o/oauth2/auth?client_id=947318989803-6bn6qk8qdgf4n4g3pfee6491hc0brc4i.apps.googleusercontent.com&redirect_uri=urn%3Aietf%3Awg%3Aoauth%3A2.0%3Aoob&scope=email%20https%3A%2F%2Fwww.googleapis.com%2Fauth%2Fdocs.test%20https%3A%2F%2Fwww.googleapis.com%2Fauth%2Fdrive%20https%3A%2F%2Fwww.googleapis.com%2Fauth%2Fdrive.photos.readonly%20https%3A%2F%2Fwww.googleapis.com%2Fauth%2Fpeopleapi.readonly&response_type=code\n",
            "\n",
            "Enter your authorization code:\n",
            "··········\n",
            "Mounted at /content/gdrive\n"
          ],
          "name": "stdout"
        }
      ]
    },
    {
      "cell_type": "code",
      "metadata": {
        "id": "w23UjJzKW0en",
        "colab_type": "code",
        "outputId": "b0a8dda9-c7cc-4629-8537-9ce01cc3bdf6",
        "colab": {
          "base_uri": "https://localhost:8080/",
          "height": 35
        }
      },
      "source": [
        "data_path = \"/content/gdrive/My Drive/stock prediction/\"\n",
        "df = pd.read_csv(os.path.join(data_path, \"gogl.us.txt\"))\n",
        "print(df.shape)\n"
      ],
      "execution_count": 3,
      "outputs": [
        {
          "output_type": "stream",
          "text": [
            "(3201, 7)\n"
          ],
          "name": "stdout"
        }
      ]
    },
    {
      "cell_type": "code",
      "metadata": {
        "id": "gIPTYwCsYXGH",
        "colab_type": "code",
        "outputId": "cc9428d8-3291-454d-b742-1dbd037e4063",
        "colab": {
          "base_uri": "https://localhost:8080/",
          "height": 665
        }
      },
      "source": [
        "df.head(20)"
      ],
      "execution_count": 4,
      "outputs": [
        {
          "output_type": "execute_result",
          "data": {
            "text/html": [
              "<div>\n",
              "<style scoped>\n",
              "    .dataframe tbody tr th:only-of-type {\n",
              "        vertical-align: middle;\n",
              "    }\n",
              "\n",
              "    .dataframe tbody tr th {\n",
              "        vertical-align: top;\n",
              "    }\n",
              "\n",
              "    .dataframe thead th {\n",
              "        text-align: right;\n",
              "    }\n",
              "</style>\n",
              "<table border=\"1\" class=\"dataframe\">\n",
              "  <thead>\n",
              "    <tr style=\"text-align: right;\">\n",
              "      <th></th>\n",
              "      <th>Date</th>\n",
              "      <th>Open</th>\n",
              "      <th>High</th>\n",
              "      <th>Low</th>\n",
              "      <th>Close</th>\n",
              "      <th>Volume</th>\n",
              "      <th>OpenInt</th>\n",
              "    </tr>\n",
              "  </thead>\n",
              "  <tbody>\n",
              "    <tr>\n",
              "      <th>0</th>\n",
              "      <td>2005-02-25</td>\n",
              "      <td>141.94</td>\n",
              "      <td>143.84</td>\n",
              "      <td>141.20</td>\n",
              "      <td>143.18</td>\n",
              "      <td>89902</td>\n",
              "      <td>0</td>\n",
              "    </tr>\n",
              "    <tr>\n",
              "      <th>1</th>\n",
              "      <td>2005-02-28</td>\n",
              "      <td>143.70</td>\n",
              "      <td>147.19</td>\n",
              "      <td>139.47</td>\n",
              "      <td>143.14</td>\n",
              "      <td>124965</td>\n",
              "      <td>0</td>\n",
              "    </tr>\n",
              "    <tr>\n",
              "      <th>2</th>\n",
              "      <td>2005-03-01</td>\n",
              "      <td>141.79</td>\n",
              "      <td>142.57</td>\n",
              "      <td>131.36</td>\n",
              "      <td>134.50</td>\n",
              "      <td>229663</td>\n",
              "      <td>0</td>\n",
              "    </tr>\n",
              "    <tr>\n",
              "      <th>3</th>\n",
              "      <td>2005-03-02</td>\n",
              "      <td>135.27</td>\n",
              "      <td>139.11</td>\n",
              "      <td>135.06</td>\n",
              "      <td>137.56</td>\n",
              "      <td>88113</td>\n",
              "      <td>0</td>\n",
              "    </tr>\n",
              "    <tr>\n",
              "      <th>4</th>\n",
              "      <td>2005-03-03</td>\n",
              "      <td>138.59</td>\n",
              "      <td>138.59</td>\n",
              "      <td>132.24</td>\n",
              "      <td>134.89</td>\n",
              "      <td>120294</td>\n",
              "      <td>0</td>\n",
              "    </tr>\n",
              "    <tr>\n",
              "      <th>5</th>\n",
              "      <td>2005-03-04</td>\n",
              "      <td>134.00</td>\n",
              "      <td>137.00</td>\n",
              "      <td>133.34</td>\n",
              "      <td>136.47</td>\n",
              "      <td>68711</td>\n",
              "      <td>0</td>\n",
              "    </tr>\n",
              "    <tr>\n",
              "      <th>6</th>\n",
              "      <td>2005-03-07</td>\n",
              "      <td>136.66</td>\n",
              "      <td>137.35</td>\n",
              "      <td>134.18</td>\n",
              "      <td>135.06</td>\n",
              "      <td>81653</td>\n",
              "      <td>0</td>\n",
              "    </tr>\n",
              "    <tr>\n",
              "      <th>7</th>\n",
              "      <td>2005-03-08</td>\n",
              "      <td>134.36</td>\n",
              "      <td>134.78</td>\n",
              "      <td>130.41</td>\n",
              "      <td>130.54</td>\n",
              "      <td>150554</td>\n",
              "      <td>0</td>\n",
              "    </tr>\n",
              "    <tr>\n",
              "      <th>8</th>\n",
              "      <td>2005-03-09</td>\n",
              "      <td>130.72</td>\n",
              "      <td>132.17</td>\n",
              "      <td>127.52</td>\n",
              "      <td>129.21</td>\n",
              "      <td>131825</td>\n",
              "      <td>0</td>\n",
              "    </tr>\n",
              "    <tr>\n",
              "      <th>9</th>\n",
              "      <td>2005-03-10</td>\n",
              "      <td>129.21</td>\n",
              "      <td>129.21</td>\n",
              "      <td>119.22</td>\n",
              "      <td>121.95</td>\n",
              "      <td>312669</td>\n",
              "      <td>0</td>\n",
              "    </tr>\n",
              "    <tr>\n",
              "      <th>10</th>\n",
              "      <td>2005-03-11</td>\n",
              "      <td>123.92</td>\n",
              "      <td>128.57</td>\n",
              "      <td>123.92</td>\n",
              "      <td>126.67</td>\n",
              "      <td>128252</td>\n",
              "      <td>0</td>\n",
              "    </tr>\n",
              "    <tr>\n",
              "      <th>11</th>\n",
              "      <td>2005-03-14</td>\n",
              "      <td>126.21</td>\n",
              "      <td>134.14</td>\n",
              "      <td>126.21</td>\n",
              "      <td>132.70</td>\n",
              "      <td>129956</td>\n",
              "      <td>0</td>\n",
              "    </tr>\n",
              "    <tr>\n",
              "      <th>12</th>\n",
              "      <td>2005-03-15</td>\n",
              "      <td>135.06</td>\n",
              "      <td>135.76</td>\n",
              "      <td>130.34</td>\n",
              "      <td>131.78</td>\n",
              "      <td>107714</td>\n",
              "      <td>0</td>\n",
              "    </tr>\n",
              "    <tr>\n",
              "      <th>13</th>\n",
              "      <td>2005-03-16</td>\n",
              "      <td>133.97</td>\n",
              "      <td>133.97</td>\n",
              "      <td>131.36</td>\n",
              "      <td>132.77</td>\n",
              "      <td>46989</td>\n",
              "      <td>0</td>\n",
              "    </tr>\n",
              "    <tr>\n",
              "      <th>14</th>\n",
              "      <td>2005-03-17</td>\n",
              "      <td>134.92</td>\n",
              "      <td>138.66</td>\n",
              "      <td>133.70</td>\n",
              "      <td>137.60</td>\n",
              "      <td>103390</td>\n",
              "      <td>0</td>\n",
              "    </tr>\n",
              "    <tr>\n",
              "      <th>15</th>\n",
              "      <td>2005-03-18</td>\n",
              "      <td>137.71</td>\n",
              "      <td>139.89</td>\n",
              "      <td>134.57</td>\n",
              "      <td>137.39</td>\n",
              "      <td>101266</td>\n",
              "      <td>0</td>\n",
              "    </tr>\n",
              "    <tr>\n",
              "      <th>16</th>\n",
              "      <td>2005-03-21</td>\n",
              "      <td>139.57</td>\n",
              "      <td>139.82</td>\n",
              "      <td>136.76</td>\n",
              "      <td>138.59</td>\n",
              "      <td>66254</td>\n",
              "      <td>0</td>\n",
              "    </tr>\n",
              "    <tr>\n",
              "      <th>17</th>\n",
              "      <td>2005-03-22</td>\n",
              "      <td>138.23</td>\n",
              "      <td>139.78</td>\n",
              "      <td>136.47</td>\n",
              "      <td>136.82</td>\n",
              "      <td>65005</td>\n",
              "      <td>0</td>\n",
              "    </tr>\n",
              "    <tr>\n",
              "      <th>18</th>\n",
              "      <td>2005-03-23</td>\n",
              "      <td>136.12</td>\n",
              "      <td>136.66</td>\n",
              "      <td>131.72</td>\n",
              "      <td>132.67</td>\n",
              "      <td>80143</td>\n",
              "      <td>0</td>\n",
              "    </tr>\n",
              "    <tr>\n",
              "      <th>19</th>\n",
              "      <td>2005-03-24</td>\n",
              "      <td>132.59</td>\n",
              "      <td>135.31</td>\n",
              "      <td>131.54</td>\n",
              "      <td>133.70</td>\n",
              "      <td>49002</td>\n",
              "      <td>0</td>\n",
              "    </tr>\n",
              "  </tbody>\n",
              "</table>\n",
              "</div>"
            ],
            "text/plain": [
              "          Date    Open    High     Low   Close  Volume  OpenInt\n",
              "0   2005-02-25  141.94  143.84  141.20  143.18   89902        0\n",
              "1   2005-02-28  143.70  147.19  139.47  143.14  124965        0\n",
              "2   2005-03-01  141.79  142.57  131.36  134.50  229663        0\n",
              "3   2005-03-02  135.27  139.11  135.06  137.56   88113        0\n",
              "4   2005-03-03  138.59  138.59  132.24  134.89  120294        0\n",
              "5   2005-03-04  134.00  137.00  133.34  136.47   68711        0\n",
              "6   2005-03-07  136.66  137.35  134.18  135.06   81653        0\n",
              "7   2005-03-08  134.36  134.78  130.41  130.54  150554        0\n",
              "8   2005-03-09  130.72  132.17  127.52  129.21  131825        0\n",
              "9   2005-03-10  129.21  129.21  119.22  121.95  312669        0\n",
              "10  2005-03-11  123.92  128.57  123.92  126.67  128252        0\n",
              "11  2005-03-14  126.21  134.14  126.21  132.70  129956        0\n",
              "12  2005-03-15  135.06  135.76  130.34  131.78  107714        0\n",
              "13  2005-03-16  133.97  133.97  131.36  132.77   46989        0\n",
              "14  2005-03-17  134.92  138.66  133.70  137.60  103390        0\n",
              "15  2005-03-18  137.71  139.89  134.57  137.39  101266        0\n",
              "16  2005-03-21  139.57  139.82  136.76  138.59   66254        0\n",
              "17  2005-03-22  138.23  139.78  136.47  136.82   65005        0\n",
              "18  2005-03-23  136.12  136.66  131.72  132.67   80143        0\n",
              "19  2005-03-24  132.59  135.31  131.54  133.70   49002        0"
            ]
          },
          "metadata": {
            "tags": []
          },
          "execution_count": 4
        }
      ]
    },
    {
      "cell_type": "code",
      "metadata": {
        "id": "OzmdF2Hd6I9-",
        "colab_type": "code",
        "colab": {}
      },
      "source": [
        "df.drop(df.index[[0,1,2,3,4,5]], inplace = True)"
      ],
      "execution_count": 0,
      "outputs": []
    },
    {
      "cell_type": "code",
      "metadata": {
        "id": "X5XYZwgA5KY5",
        "colab_type": "code",
        "outputId": "3dd9f6e8-e447-4ae9-8543-6d9b29c5382f",
        "colab": {
          "base_uri": "https://localhost:8080/",
          "height": 203
        }
      },
      "source": [
        "df.head(5) # Now data is in sequence of 5 days , Monday to Friday"
      ],
      "execution_count": 6,
      "outputs": [
        {
          "output_type": "execute_result",
          "data": {
            "text/html": [
              "<div>\n",
              "<style scoped>\n",
              "    .dataframe tbody tr th:only-of-type {\n",
              "        vertical-align: middle;\n",
              "    }\n",
              "\n",
              "    .dataframe tbody tr th {\n",
              "        vertical-align: top;\n",
              "    }\n",
              "\n",
              "    .dataframe thead th {\n",
              "        text-align: right;\n",
              "    }\n",
              "</style>\n",
              "<table border=\"1\" class=\"dataframe\">\n",
              "  <thead>\n",
              "    <tr style=\"text-align: right;\">\n",
              "      <th></th>\n",
              "      <th>Date</th>\n",
              "      <th>Open</th>\n",
              "      <th>High</th>\n",
              "      <th>Low</th>\n",
              "      <th>Close</th>\n",
              "      <th>Volume</th>\n",
              "      <th>OpenInt</th>\n",
              "    </tr>\n",
              "  </thead>\n",
              "  <tbody>\n",
              "    <tr>\n",
              "      <th>6</th>\n",
              "      <td>2005-03-07</td>\n",
              "      <td>136.66</td>\n",
              "      <td>137.35</td>\n",
              "      <td>134.18</td>\n",
              "      <td>135.06</td>\n",
              "      <td>81653</td>\n",
              "      <td>0</td>\n",
              "    </tr>\n",
              "    <tr>\n",
              "      <th>7</th>\n",
              "      <td>2005-03-08</td>\n",
              "      <td>134.36</td>\n",
              "      <td>134.78</td>\n",
              "      <td>130.41</td>\n",
              "      <td>130.54</td>\n",
              "      <td>150554</td>\n",
              "      <td>0</td>\n",
              "    </tr>\n",
              "    <tr>\n",
              "      <th>8</th>\n",
              "      <td>2005-03-09</td>\n",
              "      <td>130.72</td>\n",
              "      <td>132.17</td>\n",
              "      <td>127.52</td>\n",
              "      <td>129.21</td>\n",
              "      <td>131825</td>\n",
              "      <td>0</td>\n",
              "    </tr>\n",
              "    <tr>\n",
              "      <th>9</th>\n",
              "      <td>2005-03-10</td>\n",
              "      <td>129.21</td>\n",
              "      <td>129.21</td>\n",
              "      <td>119.22</td>\n",
              "      <td>121.95</td>\n",
              "      <td>312669</td>\n",
              "      <td>0</td>\n",
              "    </tr>\n",
              "    <tr>\n",
              "      <th>10</th>\n",
              "      <td>2005-03-11</td>\n",
              "      <td>123.92</td>\n",
              "      <td>128.57</td>\n",
              "      <td>123.92</td>\n",
              "      <td>126.67</td>\n",
              "      <td>128252</td>\n",
              "      <td>0</td>\n",
              "    </tr>\n",
              "  </tbody>\n",
              "</table>\n",
              "</div>"
            ],
            "text/plain": [
              "          Date    Open    High     Low   Close  Volume  OpenInt\n",
              "6   2005-03-07  136.66  137.35  134.18  135.06   81653        0\n",
              "7   2005-03-08  134.36  134.78  130.41  130.54  150554        0\n",
              "8   2005-03-09  130.72  132.17  127.52  129.21  131825        0\n",
              "9   2005-03-10  129.21  129.21  119.22  121.95  312669        0\n",
              "10  2005-03-11  123.92  128.57  123.92  126.67  128252        0"
            ]
          },
          "metadata": {
            "tags": []
          },
          "execution_count": 6
        }
      ]
    },
    {
      "cell_type": "code",
      "metadata": {
        "id": "qW2aBp_XrveV",
        "colab_type": "code",
        "outputId": "ea48f2bb-45b8-4d11-9a8a-7407cd46767f",
        "colab": {
          "base_uri": "https://localhost:8080/",
          "height": 203
        }
      },
      "source": [
        "df.drop([\"Date\", \"OpenInt\"], axis = 1, inplace = True)\n",
        "df.head()"
      ],
      "execution_count": 7,
      "outputs": [
        {
          "output_type": "execute_result",
          "data": {
            "text/html": [
              "<div>\n",
              "<style scoped>\n",
              "    .dataframe tbody tr th:only-of-type {\n",
              "        vertical-align: middle;\n",
              "    }\n",
              "\n",
              "    .dataframe tbody tr th {\n",
              "        vertical-align: top;\n",
              "    }\n",
              "\n",
              "    .dataframe thead th {\n",
              "        text-align: right;\n",
              "    }\n",
              "</style>\n",
              "<table border=\"1\" class=\"dataframe\">\n",
              "  <thead>\n",
              "    <tr style=\"text-align: right;\">\n",
              "      <th></th>\n",
              "      <th>Open</th>\n",
              "      <th>High</th>\n",
              "      <th>Low</th>\n",
              "      <th>Close</th>\n",
              "      <th>Volume</th>\n",
              "    </tr>\n",
              "  </thead>\n",
              "  <tbody>\n",
              "    <tr>\n",
              "      <th>6</th>\n",
              "      <td>136.66</td>\n",
              "      <td>137.35</td>\n",
              "      <td>134.18</td>\n",
              "      <td>135.06</td>\n",
              "      <td>81653</td>\n",
              "    </tr>\n",
              "    <tr>\n",
              "      <th>7</th>\n",
              "      <td>134.36</td>\n",
              "      <td>134.78</td>\n",
              "      <td>130.41</td>\n",
              "      <td>130.54</td>\n",
              "      <td>150554</td>\n",
              "    </tr>\n",
              "    <tr>\n",
              "      <th>8</th>\n",
              "      <td>130.72</td>\n",
              "      <td>132.17</td>\n",
              "      <td>127.52</td>\n",
              "      <td>129.21</td>\n",
              "      <td>131825</td>\n",
              "    </tr>\n",
              "    <tr>\n",
              "      <th>9</th>\n",
              "      <td>129.21</td>\n",
              "      <td>129.21</td>\n",
              "      <td>119.22</td>\n",
              "      <td>121.95</td>\n",
              "      <td>312669</td>\n",
              "    </tr>\n",
              "    <tr>\n",
              "      <th>10</th>\n",
              "      <td>123.92</td>\n",
              "      <td>128.57</td>\n",
              "      <td>123.92</td>\n",
              "      <td>126.67</td>\n",
              "      <td>128252</td>\n",
              "    </tr>\n",
              "  </tbody>\n",
              "</table>\n",
              "</div>"
            ],
            "text/plain": [
              "      Open    High     Low   Close  Volume\n",
              "6   136.66  137.35  134.18  135.06   81653\n",
              "7   134.36  134.78  130.41  130.54  150554\n",
              "8   130.72  132.17  127.52  129.21  131825\n",
              "9   129.21  129.21  119.22  121.95  312669\n",
              "10  123.92  128.57  123.92  126.67  128252"
            ]
          },
          "metadata": {
            "tags": []
          },
          "execution_count": 7
        }
      ]
    },
    {
      "cell_type": "code",
      "metadata": {
        "id": "eayF27op5gKy",
        "colab_type": "code",
        "colab": {}
      },
      "source": [
        ""
      ],
      "execution_count": 0,
      "outputs": []
    },
    {
      "cell_type": "code",
      "metadata": {
        "id": "g277i7Nw5R4A",
        "colab_type": "code",
        "colab": {}
      },
      "source": [
        ""
      ],
      "execution_count": 0,
      "outputs": []
    },
    {
      "cell_type": "code",
      "metadata": {
        "id": "vuX9Ub0M0J55",
        "colab_type": "code",
        "colab": {}
      },
      "source": [
        "x_columns = ['Open', 'High', 'Low', 'Volume']\n",
        "y_columns = ['Close']\n",
        "x_data_original = df[x_columns]\n",
        "y_data_original = df[y_columns]"
      ],
      "execution_count": 0,
      "outputs": []
    },
    {
      "cell_type": "code",
      "metadata": {
        "id": "yc5BJKoJ0tij",
        "colab_type": "code",
        "outputId": "e0ccc10c-3c70-4f01-d5b8-beb08eb22b70",
        "colab": {
          "base_uri": "https://localhost:8080/",
          "height": 203
        }
      },
      "source": [
        "x_data_original.head()"
      ],
      "execution_count": 9,
      "outputs": [
        {
          "output_type": "execute_result",
          "data": {
            "text/html": [
              "<div>\n",
              "<style scoped>\n",
              "    .dataframe tbody tr th:only-of-type {\n",
              "        vertical-align: middle;\n",
              "    }\n",
              "\n",
              "    .dataframe tbody tr th {\n",
              "        vertical-align: top;\n",
              "    }\n",
              "\n",
              "    .dataframe thead th {\n",
              "        text-align: right;\n",
              "    }\n",
              "</style>\n",
              "<table border=\"1\" class=\"dataframe\">\n",
              "  <thead>\n",
              "    <tr style=\"text-align: right;\">\n",
              "      <th></th>\n",
              "      <th>Open</th>\n",
              "      <th>High</th>\n",
              "      <th>Low</th>\n",
              "      <th>Volume</th>\n",
              "    </tr>\n",
              "  </thead>\n",
              "  <tbody>\n",
              "    <tr>\n",
              "      <th>6</th>\n",
              "      <td>136.66</td>\n",
              "      <td>137.35</td>\n",
              "      <td>134.18</td>\n",
              "      <td>81653</td>\n",
              "    </tr>\n",
              "    <tr>\n",
              "      <th>7</th>\n",
              "      <td>134.36</td>\n",
              "      <td>134.78</td>\n",
              "      <td>130.41</td>\n",
              "      <td>150554</td>\n",
              "    </tr>\n",
              "    <tr>\n",
              "      <th>8</th>\n",
              "      <td>130.72</td>\n",
              "      <td>132.17</td>\n",
              "      <td>127.52</td>\n",
              "      <td>131825</td>\n",
              "    </tr>\n",
              "    <tr>\n",
              "      <th>9</th>\n",
              "      <td>129.21</td>\n",
              "      <td>129.21</td>\n",
              "      <td>119.22</td>\n",
              "      <td>312669</td>\n",
              "    </tr>\n",
              "    <tr>\n",
              "      <th>10</th>\n",
              "      <td>123.92</td>\n",
              "      <td>128.57</td>\n",
              "      <td>123.92</td>\n",
              "      <td>128252</td>\n",
              "    </tr>\n",
              "  </tbody>\n",
              "</table>\n",
              "</div>"
            ],
            "text/plain": [
              "      Open    High     Low  Volume\n",
              "6   136.66  137.35  134.18   81653\n",
              "7   134.36  134.78  130.41  150554\n",
              "8   130.72  132.17  127.52  131825\n",
              "9   129.21  129.21  119.22  312669\n",
              "10  123.92  128.57  123.92  128252"
            ]
          },
          "metadata": {
            "tags": []
          },
          "execution_count": 9
        }
      ]
    },
    {
      "cell_type": "code",
      "metadata": {
        "id": "wnJ2riPw00El",
        "colab_type": "code",
        "outputId": "0045d6de-dddd-476f-c4ba-804d9101757a",
        "colab": {
          "base_uri": "https://localhost:8080/",
          "height": 105
        }
      },
      "source": [
        "from sklearn.preprocessing import MinMaxScaler\n",
        "scaler = MinMaxScaler()\n",
        "x_data = scaler.fit_transform(x_data_original)\n",
        "y_data = y_data_original.values\n",
        "print(x_data[0:5])"
      ],
      "execution_count": 10,
      "outputs": [
        {
          "output_type": "stream",
          "text": [
            "[[0.82169354 0.8168843  0.81895104 0.03513489]\n",
            " [0.8075909  0.80127543 0.79549555 0.06762313]\n",
            " [0.78527194 0.78542363 0.77751509 0.05879202]\n",
            " [0.77601324 0.7674461  0.72587569 0.1440637 ]\n",
            " [0.74357717 0.76355906 0.75511728 0.05710728]]\n"
          ],
          "name": "stdout"
        }
      ]
    },
    {
      "cell_type": "code",
      "metadata": {
        "id": "BqmD3UAsstJZ",
        "colab_type": "code",
        "colab": {}
      },
      "source": [
        ""
      ],
      "execution_count": 0,
      "outputs": []
    },
    {
      "cell_type": "markdown",
      "metadata": {
        "id": "WgV9Cf1pyrHM",
        "colab_type": "text"
      },
      "source": [
        "***Neural Network***"
      ]
    },
    {
      "cell_type": "code",
      "metadata": {
        "id": "KVikKocQ3A1V",
        "colab_type": "code",
        "outputId": "1a65d99b-2f67-4777-d1a5-69a7d2dc06f6",
        "colab": {
          "base_uri": "https://localhost:8080/",
          "height": 35
        }
      },
      "source": [
        "from sklearn import metrics\n",
        "from keras.models import Sequential\n",
        "from keras.layers.core import Dense, Activation, Dropout\n",
        "from keras.callbacks import EarlyStopping\n",
        "from keras.callbacks import ModelCheckpoint\n",
        "from keras.utils import to_categorical\n",
        "from datetime import datetime\n",
        "from keras import regularizers"
      ],
      "execution_count": 11,
      "outputs": [
        {
          "output_type": "stream",
          "text": [
            "Using TensorFlow backend.\n"
          ],
          "name": "stderr"
        }
      ]
    },
    {
      "cell_type": "code",
      "metadata": {
        "id": "3QKG9GmnQEbT",
        "colab_type": "code",
        "colab": {}
      },
      "source": [
        "from keras.layers.recurrent import LSTM, RNN\n",
        "import sys"
      ],
      "execution_count": 0,
      "outputs": []
    },
    {
      "cell_type": "markdown",
      "metadata": {
        "id": "1-h8d15D1iZN",
        "colab_type": "text"
      },
      "source": [
        "## **LSTM**"
      ]
    },
    {
      "cell_type": "code",
      "metadata": {
        "id": "f2u0i01-2DSD",
        "colab_type": "code",
        "colab": {}
      },
      "source": [
        "def to_sequences(seq_size, data):\n",
        "    x = []\n",
        "    y = []\n",
        "\n",
        "    for i in range(len(data)-seq_size-1):\n",
        "        #print(i)\n",
        "        window = data.iloc[i:(i+seq_size),:].values\n",
        "        after_window = data.iloc[i+seq_size,-1]\n",
        "        window = [x for x in window]\n",
        "        #print(\"{} - {}\".format(window,after_window))\n",
        "#         x.append(scaler.fit_transform(window))\n",
        "        x.append(window)\n",
        "        y.append(after_window)\n",
        "    print(np.array(x).shape)\n",
        "    return np.array(x),np.array(y)"
      ],
      "execution_count": 0,
      "outputs": []
    },
    {
      "cell_type": "code",
      "metadata": {
        "id": "yjNKLiqd2q3L",
        "colab_type": "code",
        "colab": {}
      },
      "source": [
        "lstm_df = pd.DataFrame(np.hstack([x_data,y_data])) # combining normalized data and the target (\"Close\" price)."
      ],
      "execution_count": 0,
      "outputs": []
    },
    {
      "cell_type": "code",
      "metadata": {
        "id": "lgdkTONbuC7z",
        "colab_type": "code",
        "outputId": "86fbadf4-ee4e-4da4-87eb-743760838036",
        "colab": {
          "base_uri": "https://localhost:8080/",
          "height": 35
        }
      },
      "source": [
        "seq = 5\n",
        "# xt, yt = to_sequences(seq, lstm_df)"
      ],
      "execution_count": 15,
      "outputs": [
        {
          "output_type": "stream",
          "text": [
            "(3189, 5, 5)\n"
          ],
          "name": "stdout"
        }
      ]
    },
    {
      "cell_type": "code",
      "metadata": {
        "id": "OngZ146HuF3k",
        "colab_type": "code",
        "colab": {
          "base_uri": "https://localhost:8080/",
          "height": 52
        },
        "outputId": "e99153ff-8ddb-41fc-9e3b-4eb15a78d21c"
      },
      "source": [
        "train = lstm_df[:int(len(lstm_df)*0.7)]  # Take first 70% of data for training.\n",
        "test = lstm_df[int(len(lstm_df)*0.7):]\n",
        "\n",
        "x_train, y_train = to_sequences(seq, train)\n",
        "x_test,y_test = to_sequences(seq, test)"
      ],
      "execution_count": 17,
      "outputs": [
        {
          "output_type": "stream",
          "text": [
            "(2230, 5, 5)\n",
            "(953, 5, 5)\n"
          ],
          "name": "stdout"
        }
      ]
    },
    {
      "cell_type": "code",
      "metadata": {
        "id": "vhn44Lvh4zJ9",
        "colab_type": "code",
        "colab": {}
      },
      "source": [
        "# train.head(10)"
      ],
      "execution_count": 0,
      "outputs": []
    },
    {
      "cell_type": "code",
      "metadata": {
        "id": "EmpmJMrK4bY1",
        "colab_type": "code",
        "colab": {}
      },
      "source": [
        "# x_train, x_test , y_train, y_test  = train_test_split(xt,yt, test_size = 0.2)"
      ],
      "execution_count": 0,
      "outputs": []
    },
    {
      "cell_type": "code",
      "metadata": {
        "id": "u9m7dLhfsbJ_",
        "colab_type": "code",
        "outputId": "ab7e569a-07f6-43f2-d7b4-b3590a533ba0",
        "colab": {
          "base_uri": "https://localhost:8080/",
          "height": 193
        }
      },
      "source": [
        "x_train[0]"
      ],
      "execution_count": 18,
      "outputs": [
        {
          "output_type": "execute_result",
          "data": {
            "text/plain": [
              "array([[8.21693543e-01, 8.16884300e-01, 8.18951036e-01, 3.51348879e-02,\n",
              "        1.35060000e+02],\n",
              "       [8.07590901e-01, 8.01275433e-01, 7.95495552e-01, 6.76231305e-02,\n",
              "        1.30540000e+02],\n",
              "       [7.85271936e-01, 7.85423626e-01, 7.77515087e-01, 5.87920207e-02,\n",
              "        1.29210000e+02],\n",
              "       [7.76013244e-01, 7.67446098e-01, 7.25875692e-01, 1.44063697e-01,\n",
              "        1.21950000e+02],\n",
              "       [7.43577166e-01, 7.63559065e-01, 7.55117277e-01, 5.71072775e-02,\n",
              "        1.26670000e+02]])"
            ]
          },
          "metadata": {
            "tags": []
          },
          "execution_count": 18
        }
      ]
    },
    {
      "cell_type": "code",
      "metadata": {
        "id": "S6t3dh9ef8IE",
        "colab_type": "code",
        "colab": {
          "base_uri": "https://localhost:8080/",
          "height": 35
        },
        "outputId": "457f8a04-e68e-4bd0-f6a9-d857d762b466"
      },
      "source": [
        "y_train[0]"
      ],
      "execution_count": 19,
      "outputs": [
        {
          "output_type": "execute_result",
          "data": {
            "text/plain": [
              "132.7"
            ]
          },
          "metadata": {
            "tags": []
          },
          "execution_count": 19
        }
      ]
    },
    {
      "cell_type": "code",
      "metadata": {
        "id": "wzWgh1L75GSz",
        "colab_type": "code",
        "outputId": "11a33d47-7268-4cca-adf9-40d82ad000db",
        "colab": {
          "base_uri": "https://localhost:8080/",
          "height": 35
        }
      },
      "source": [
        "y_train[0]"
      ],
      "execution_count": 0,
      "outputs": [
        {
          "output_type": "execute_result",
          "data": {
            "text/plain": [
              "94.475"
            ]
          },
          "metadata": {
            "tags": []
          },
          "execution_count": 25
        }
      ]
    },
    {
      "cell_type": "code",
      "metadata": {
        "id": "tku1Cp6c5qx8",
        "colab_type": "code",
        "outputId": "33ba2e68-5f19-443c-e8d3-473ac2a6eaea",
        "colab": {
          "base_uri": "https://localhost:8080/",
          "height": 1000
        }
      },
      "source": [
        "model = Sequential()\n",
        "model.add(LSTM(128, dropout=0.0, recurrent_dropout=0.0, input_shape=(seq, 5), activation = \"relu\")) \n",
        "# model.add(Dropout(0.2))\n",
        "model.add(Dense(32, activation =\"relu\"))\n",
        "# model.add(Dropout(0.3))\n",
        "model.add(Dense(1, activation = \"linear\"))\n",
        "model.compile(loss='mean_squared_error', optimizer='adam')\n",
        "\n",
        "monitor = EarlyStopping(monitor='val_loss', min_delta=0.01, patience=10, verbose=20, mode='auto')\n",
        "# t1= datetime.now()\n",
        "for i in range(3):\n",
        "  history = model.fit(x_train,y_train,validation_data=(x_test,y_test),callbacks=[monitor],verbose=1, epochs=200)\n",
        "# train_time = datetime.now() - t1"
      ],
      "execution_count": 20,
      "outputs": [
        {
          "output_type": "stream",
          "text": [
            "WARNING:tensorflow:From /usr/local/lib/python3.6/dist-packages/keras/backend/tensorflow_backend.py:66: The name tf.get_default_graph is deprecated. Please use tf.compat.v1.get_default_graph instead.\n",
            "\n",
            "WARNING:tensorflow:From /usr/local/lib/python3.6/dist-packages/keras/optimizers.py:793: The name tf.train.Optimizer is deprecated. Please use tf.compat.v1.train.Optimizer instead.\n",
            "\n",
            "WARNING:tensorflow:From /usr/local/lib/python3.6/dist-packages/tensorflow_core/python/ops/math_grad.py:1424: where (from tensorflow.python.ops.array_ops) is deprecated and will be removed in a future version.\n",
            "Instructions for updating:\n",
            "Use tf.where in 2.0, which has the same broadcast rule as np.where\n",
            "Train on 2230 samples, validate on 953 samples\n",
            "Epoch 1/200\n",
            "2230/2230 [==============================] - 2s 829us/step - loss: 1316.9059 - val_loss: 10.8448\n",
            "Epoch 2/200\n",
            "2230/2230 [==============================] - 1s 295us/step - loss: 11.4402 - val_loss: 9.5148\n",
            "Epoch 3/200\n",
            "2230/2230 [==============================] - 1s 295us/step - loss: 10.0904 - val_loss: 8.7674\n",
            "Epoch 4/200\n",
            "2230/2230 [==============================] - 1s 288us/step - loss: 8.8105 - val_loss: 7.7330\n",
            "Epoch 5/200\n",
            "2230/2230 [==============================] - 1s 299us/step - loss: 7.5578 - val_loss: 7.7320\n",
            "Epoch 6/200\n",
            "2230/2230 [==============================] - 1s 302us/step - loss: 6.9121 - val_loss: 7.0776\n",
            "Epoch 7/200\n",
            "2230/2230 [==============================] - 1s 289us/step - loss: 6.0075 - val_loss: 7.1789\n",
            "Epoch 8/200\n",
            "2230/2230 [==============================] - 1s 292us/step - loss: 5.7288 - val_loss: 6.4501\n",
            "Epoch 9/200\n",
            "2230/2230 [==============================] - 1s 304us/step - loss: 6.7801 - val_loss: 6.6283\n",
            "Epoch 10/200\n",
            "2230/2230 [==============================] - 1s 293us/step - loss: 5.9830 - val_loss: 6.5288\n",
            "Epoch 11/200\n",
            "2230/2230 [==============================] - 1s 301us/step - loss: 5.9547 - val_loss: 6.2138\n",
            "Epoch 12/200\n",
            "2230/2230 [==============================] - 1s 293us/step - loss: 5.7287 - val_loss: 5.4926\n",
            "Epoch 13/200\n",
            "2230/2230 [==============================] - 1s 307us/step - loss: 5.7908 - val_loss: 5.6630\n",
            "Epoch 14/200\n",
            "2230/2230 [==============================] - 1s 288us/step - loss: 5.9053 - val_loss: 5.2945\n",
            "Epoch 15/200\n",
            "2230/2230 [==============================] - 1s 303us/step - loss: 5.5176 - val_loss: 4.9910\n",
            "Epoch 16/200\n",
            "2230/2230 [==============================] - 1s 329us/step - loss: 5.3336 - val_loss: 4.8866\n",
            "Epoch 17/200\n",
            "2230/2230 [==============================] - 1s 320us/step - loss: 5.1501 - val_loss: 4.8115\n",
            "Epoch 18/200\n",
            "2230/2230 [==============================] - 1s 311us/step - loss: 5.2155 - val_loss: 4.9000\n",
            "Epoch 19/200\n",
            "2230/2230 [==============================] - 1s 315us/step - loss: 5.4814 - val_loss: 4.5901\n",
            "Epoch 20/200\n",
            "2230/2230 [==============================] - 1s 306us/step - loss: 5.5831 - val_loss: 4.2880\n",
            "Epoch 21/200\n",
            "2230/2230 [==============================] - 1s 308us/step - loss: 5.5291 - val_loss: 4.1741\n",
            "Epoch 22/200\n",
            "2230/2230 [==============================] - 1s 307us/step - loss: 5.0863 - val_loss: 4.3444\n",
            "Epoch 23/200\n",
            "2230/2230 [==============================] - 1s 305us/step - loss: 5.2995 - val_loss: 4.4777\n",
            "Epoch 24/200\n",
            "2230/2230 [==============================] - 1s 299us/step - loss: 6.0485 - val_loss: 4.2913\n",
            "Epoch 25/200\n",
            "2230/2230 [==============================] - 1s 303us/step - loss: 5.1244 - val_loss: 4.2915\n",
            "Epoch 26/200\n",
            "2230/2230 [==============================] - 1s 321us/step - loss: 5.3068 - val_loss: 4.1646\n",
            "Epoch 27/200\n",
            "2230/2230 [==============================] - 1s 326us/step - loss: 5.7842 - val_loss: 4.5996\n",
            "Epoch 28/200\n",
            "2230/2230 [==============================] - 1s 333us/step - loss: 5.1803 - val_loss: 4.2344\n",
            "Epoch 29/200\n",
            "2230/2230 [==============================] - 1s 287us/step - loss: 5.1771 - val_loss: 4.3393\n",
            "Epoch 30/200\n",
            "2230/2230 [==============================] - 1s 292us/step - loss: 5.8505 - val_loss: 4.2653\n",
            "Epoch 31/200\n",
            "2230/2230 [==============================] - 1s 324us/step - loss: 5.0668 - val_loss: 4.0635\n",
            "Epoch 32/200\n",
            "2230/2230 [==============================] - 1s 312us/step - loss: 5.3604 - val_loss: 3.8720\n",
            "Epoch 33/200\n",
            "2230/2230 [==============================] - 1s 318us/step - loss: 4.9519 - val_loss: 4.5252\n",
            "Epoch 34/200\n",
            "2230/2230 [==============================] - 1s 307us/step - loss: 5.3024 - val_loss: 4.1653\n",
            "Epoch 35/200\n",
            "2230/2230 [==============================] - 1s 291us/step - loss: 5.5702 - val_loss: 5.0218\n",
            "Epoch 36/200\n",
            "2230/2230 [==============================] - 1s 309us/step - loss: 5.7786 - val_loss: 4.4150\n",
            "Epoch 37/200\n",
            "2230/2230 [==============================] - 1s 296us/step - loss: 5.6649 - val_loss: 3.8194\n",
            "Epoch 38/200\n",
            "2230/2230 [==============================] - 1s 296us/step - loss: 5.3836 - val_loss: 4.1211\n",
            "Epoch 39/200\n",
            "2230/2230 [==============================] - 1s 287us/step - loss: 5.1823 - val_loss: 4.3204\n",
            "Epoch 40/200\n",
            "2230/2230 [==============================] - 1s 293us/step - loss: 5.1923 - val_loss: 4.2696\n",
            "Epoch 41/200\n",
            "2230/2230 [==============================] - 1s 297us/step - loss: 5.7350 - val_loss: 4.3654\n",
            "Epoch 42/200\n",
            "2230/2230 [==============================] - 1s 296us/step - loss: 5.6650 - val_loss: 4.3113\n",
            "Epoch 43/200\n",
            "2230/2230 [==============================] - 1s 291us/step - loss: 5.4146 - val_loss: 4.1872\n",
            "Epoch 44/200\n",
            "2230/2230 [==============================] - 1s 292us/step - loss: 5.1790 - val_loss: 4.0872\n",
            "Epoch 45/200\n",
            "2230/2230 [==============================] - 1s 306us/step - loss: 5.1348 - val_loss: 4.6147\n",
            "Epoch 46/200\n",
            "2230/2230 [==============================] - 1s 311us/step - loss: 4.8563 - val_loss: 3.9172\n",
            "Epoch 47/200\n",
            "2230/2230 [==============================] - 1s 291us/step - loss: 4.9237 - val_loss: 3.7760\n",
            "Epoch 48/200\n",
            "2230/2230 [==============================] - 1s 289us/step - loss: 5.3123 - val_loss: 4.0449\n",
            "Epoch 49/200\n",
            "2230/2230 [==============================] - 1s 300us/step - loss: 5.5686 - val_loss: 4.2974\n",
            "Epoch 50/200\n",
            "2230/2230 [==============================] - 1s 298us/step - loss: 5.2536 - val_loss: 3.6565\n",
            "Epoch 51/200\n",
            "2230/2230 [==============================] - 1s 286us/step - loss: 4.9740 - val_loss: 3.7811\n",
            "Epoch 52/200\n",
            "2230/2230 [==============================] - 1s 305us/step - loss: 5.4048 - val_loss: 4.2037\n",
            "Epoch 53/200\n",
            "2230/2230 [==============================] - 1s 293us/step - loss: 5.3735 - val_loss: 3.6335\n",
            "Epoch 54/200\n",
            "2230/2230 [==============================] - 1s 294us/step - loss: 5.2344 - val_loss: 3.6247\n",
            "Epoch 55/200\n",
            "2230/2230 [==============================] - 1s 307us/step - loss: 5.5735 - val_loss: 3.6346\n",
            "Epoch 56/200\n",
            "2230/2230 [==============================] - 1s 306us/step - loss: 5.2842 - val_loss: 3.5333\n",
            "Epoch 57/200\n",
            "2230/2230 [==============================] - 1s 307us/step - loss: 5.3536 - val_loss: 3.6570\n",
            "Epoch 58/200\n",
            "2230/2230 [==============================] - 1s 315us/step - loss: 5.2027 - val_loss: 3.5340\n",
            "Epoch 59/200\n",
            "2230/2230 [==============================] - 1s 301us/step - loss: 4.7894 - val_loss: 3.5482\n",
            "Epoch 60/200\n",
            "2230/2230 [==============================] - 1s 305us/step - loss: 5.2256 - val_loss: 3.5913\n",
            "Epoch 61/200\n",
            "2230/2230 [==============================] - 1s 295us/step - loss: 5.1593 - val_loss: 3.9371\n",
            "Epoch 62/200\n",
            "2230/2230 [==============================] - 1s 296us/step - loss: 5.0893 - val_loss: 3.4978\n",
            "Epoch 63/200\n",
            "2230/2230 [==============================] - 1s 296us/step - loss: 5.6491 - val_loss: 3.6222\n",
            "Epoch 64/200\n",
            "2230/2230 [==============================] - 1s 297us/step - loss: 4.8173 - val_loss: 3.9117\n",
            "Epoch 65/200\n",
            "2230/2230 [==============================] - 1s 281us/step - loss: 5.2422 - val_loss: 3.8032\n",
            "Epoch 66/200\n",
            "2230/2230 [==============================] - 1s 291us/step - loss: 5.5205 - val_loss: 3.7475\n",
            "Epoch 67/200\n",
            "2230/2230 [==============================] - 1s 307us/step - loss: 6.0471 - val_loss: 5.3184\n",
            "Epoch 68/200\n",
            "2230/2230 [==============================] - 1s 312us/step - loss: 6.0724 - val_loss: 3.3950\n",
            "Epoch 69/200\n",
            "2230/2230 [==============================] - 1s 307us/step - loss: 5.0233 - val_loss: 3.2384\n",
            "Epoch 70/200\n",
            "2230/2230 [==============================] - 1s 302us/step - loss: 4.8907 - val_loss: 4.0489\n",
            "Epoch 71/200\n",
            "2230/2230 [==============================] - 1s 285us/step - loss: 5.0904 - val_loss: 3.4665\n",
            "Epoch 72/200\n",
            "2230/2230 [==============================] - 1s 293us/step - loss: 4.9166 - val_loss: 3.3999\n",
            "Epoch 73/200\n",
            "2230/2230 [==============================] - 1s 309us/step - loss: 5.2246 - val_loss: 3.3936\n",
            "Epoch 74/200\n",
            "2230/2230 [==============================] - 1s 296us/step - loss: 4.8447 - val_loss: 3.9630\n",
            "Epoch 75/200\n",
            "2230/2230 [==============================] - 1s 296us/step - loss: 5.0161 - val_loss: 3.5660\n",
            "Epoch 76/200\n",
            "2230/2230 [==============================] - 1s 305us/step - loss: 5.1864 - val_loss: 3.3499\n",
            "Epoch 77/200\n",
            "2230/2230 [==============================] - 1s 294us/step - loss: 5.8184 - val_loss: 3.3036\n",
            "Epoch 78/200\n",
            "2230/2230 [==============================] - 1s 294us/step - loss: 5.0464 - val_loss: 3.2079\n",
            "Epoch 79/200\n",
            "2230/2230 [==============================] - 1s 295us/step - loss: 5.1933 - val_loss: 3.3365\n",
            "Epoch 80/200\n",
            "2230/2230 [==============================] - 1s 293us/step - loss: 4.8627 - val_loss: 3.3669\n",
            "Epoch 81/200\n",
            "2230/2230 [==============================] - 1s 298us/step - loss: 5.0235 - val_loss: 3.2190\n",
            "Epoch 82/200\n",
            "2230/2230 [==============================] - 1s 291us/step - loss: 4.7244 - val_loss: 3.2453\n",
            "Epoch 83/200\n",
            "2230/2230 [==============================] - 1s 285us/step - loss: 4.6762 - val_loss: 3.1174\n",
            "Epoch 84/200\n",
            "2230/2230 [==============================] - 1s 283us/step - loss: 4.8521 - val_loss: 3.4485\n",
            "Epoch 85/200\n",
            "2230/2230 [==============================] - 1s 287us/step - loss: 5.5595 - val_loss: 3.5660\n",
            "Epoch 86/200\n",
            "2230/2230 [==============================] - 1s 304us/step - loss: 4.9278 - val_loss: 3.0927\n",
            "Epoch 87/200\n",
            "2230/2230 [==============================] - 1s 303us/step - loss: 5.1828 - val_loss: 3.3254\n",
            "Epoch 88/200\n",
            "2230/2230 [==============================] - 1s 304us/step - loss: 5.0099 - val_loss: 3.3761\n",
            "Epoch 89/200\n",
            "2230/2230 [==============================] - 1s 287us/step - loss: 5.0444 - val_loss: 3.6858\n",
            "Epoch 90/200\n",
            "2230/2230 [==============================] - 1s 289us/step - loss: 5.1251 - val_loss: 3.2739\n",
            "Epoch 91/200\n",
            "2230/2230 [==============================] - 1s 284us/step - loss: 4.8517 - val_loss: 3.1764\n",
            "Epoch 92/200\n",
            "2230/2230 [==============================] - 1s 302us/step - loss: 5.2469 - val_loss: 2.9700\n",
            "Epoch 93/200\n",
            "2230/2230 [==============================] - 1s 292us/step - loss: 4.8758 - val_loss: 3.1219\n",
            "Epoch 94/200\n",
            "2230/2230 [==============================] - 1s 290us/step - loss: 5.5283 - val_loss: 3.1636\n",
            "Epoch 95/200\n",
            "2230/2230 [==============================] - 1s 291us/step - loss: 4.8015 - val_loss: 2.9602\n",
            "Epoch 96/200\n",
            "2230/2230 [==============================] - 1s 298us/step - loss: 5.2898 - val_loss: 3.3444\n",
            "Epoch 97/200\n",
            "2230/2230 [==============================] - 1s 289us/step - loss: 5.0561 - val_loss: 2.9356\n",
            "Epoch 98/200\n",
            "2230/2230 [==============================] - 1s 299us/step - loss: 4.7801 - val_loss: 3.0615\n",
            "Epoch 99/200\n",
            "2230/2230 [==============================] - 1s 293us/step - loss: 6.0658 - val_loss: 3.2515\n",
            "Epoch 100/200\n",
            "2230/2230 [==============================] - 1s 289us/step - loss: 5.0302 - val_loss: 3.1203\n",
            "Epoch 101/200\n",
            "2230/2230 [==============================] - 1s 283us/step - loss: 4.9402 - val_loss: 3.1433\n",
            "Epoch 102/200\n",
            "2230/2230 [==============================] - 1s 296us/step - loss: 4.9185 - val_loss: 3.1218\n",
            "Epoch 103/200\n",
            "2230/2230 [==============================] - 1s 298us/step - loss: 4.6923 - val_loss: 3.1546\n",
            "Epoch 104/200\n",
            "2230/2230 [==============================] - 1s 319us/step - loss: 4.7569 - val_loss: 3.0533\n",
            "Epoch 105/200\n",
            "2230/2230 [==============================] - 1s 311us/step - loss: 5.2422 - val_loss: 3.0850\n",
            "Epoch 106/200\n",
            "2230/2230 [==============================] - 1s 310us/step - loss: 4.6984 - val_loss: 3.3191\n",
            "Epoch 107/200\n",
            "2230/2230 [==============================] - 1s 305us/step - loss: 4.9017 - val_loss: 3.2019\n",
            "Epoch 00107: early stopping\n",
            "Train on 2230 samples, validate on 953 samples\n",
            "Epoch 1/200\n",
            "2230/2230 [==============================] - 1s 294us/step - loss: 4.8976 - val_loss: 3.2659\n",
            "Epoch 2/200\n",
            "2230/2230 [==============================] - 1s 305us/step - loss: 5.1256 - val_loss: 3.6657\n",
            "Epoch 3/200\n",
            "2230/2230 [==============================] - 1s 306us/step - loss: 5.1955 - val_loss: 2.9883\n",
            "Epoch 4/200\n",
            "2230/2230 [==============================] - 1s 307us/step - loss: 4.9966 - val_loss: 3.1039\n",
            "Epoch 5/200\n",
            "2230/2230 [==============================] - 1s 305us/step - loss: 5.3360 - val_loss: 2.7358\n",
            "Epoch 6/200\n",
            "2230/2230 [==============================] - 1s 292us/step - loss: 4.9495 - val_loss: 2.9586\n",
            "Epoch 7/200\n",
            "2230/2230 [==============================] - 1s 303us/step - loss: 4.6768 - val_loss: 2.5331\n",
            "Epoch 8/200\n",
            "2230/2230 [==============================] - 1s 304us/step - loss: 5.2580 - val_loss: 2.5583\n",
            "Epoch 9/200\n",
            "2230/2230 [==============================] - 1s 295us/step - loss: 5.3858 - val_loss: 2.7149\n",
            "Epoch 10/200\n",
            "2230/2230 [==============================] - 1s 304us/step - loss: 5.0661 - val_loss: 2.6067\n",
            "Epoch 11/200\n",
            "2230/2230 [==============================] - 1s 300us/step - loss: 5.5112 - val_loss: 3.0442\n",
            "Epoch 12/200\n",
            "2230/2230 [==============================] - 1s 301us/step - loss: 5.2114 - val_loss: 3.0578\n",
            "Epoch 13/200\n",
            "2230/2230 [==============================] - 1s 303us/step - loss: 4.9038 - val_loss: 2.8515\n",
            "Epoch 14/200\n",
            "2230/2230 [==============================] - 1s 299us/step - loss: 4.9520 - val_loss: 2.8012\n",
            "Epoch 15/200\n",
            "2230/2230 [==============================] - 1s 301us/step - loss: 4.6941 - val_loss: 2.6535\n",
            "Epoch 16/200\n",
            "2230/2230 [==============================] - 1s 307us/step - loss: 4.8115 - val_loss: 3.2105\n",
            "Epoch 17/200\n",
            "2230/2230 [==============================] - 1s 300us/step - loss: 4.6463 - val_loss: 2.4151\n",
            "Epoch 18/200\n",
            "2230/2230 [==============================] - 1s 295us/step - loss: 4.7834 - val_loss: 2.4527\n",
            "Epoch 19/200\n",
            "2230/2230 [==============================] - 1s 300us/step - loss: 5.2626 - val_loss: 2.7810\n",
            "Epoch 20/200\n",
            "2230/2230 [==============================] - 1s 298us/step - loss: 4.9681 - val_loss: 2.8834\n",
            "Epoch 21/200\n",
            "2230/2230 [==============================] - 1s 304us/step - loss: 5.8245 - val_loss: 2.3767\n",
            "Epoch 22/200\n",
            "2230/2230 [==============================] - 1s 302us/step - loss: 5.3987 - val_loss: 2.4206\n",
            "Epoch 23/200\n",
            "2230/2230 [==============================] - 1s 298us/step - loss: 4.9515 - val_loss: 2.6030\n",
            "Epoch 24/200\n",
            "2230/2230 [==============================] - 1s 290us/step - loss: 5.0434 - val_loss: 2.7198\n",
            "Epoch 25/200\n",
            "2230/2230 [==============================] - 1s 296us/step - loss: 4.9244 - val_loss: 2.5401\n",
            "Epoch 26/200\n",
            "2230/2230 [==============================] - 1s 300us/step - loss: 4.9487 - val_loss: 2.4465\n",
            "Epoch 27/200\n",
            "2230/2230 [==============================] - 1s 312us/step - loss: 5.0708 - val_loss: 2.3359\n",
            "Epoch 28/200\n",
            "2230/2230 [==============================] - 1s 306us/step - loss: 4.8439 - val_loss: 2.4968\n",
            "Epoch 29/200\n",
            "2230/2230 [==============================] - 1s 306us/step - loss: 4.8896 - val_loss: 2.6066\n",
            "Epoch 30/200\n",
            "2230/2230 [==============================] - 1s 285us/step - loss: 4.6223 - val_loss: 2.7997\n",
            "Epoch 31/200\n",
            "2230/2230 [==============================] - 1s 304us/step - loss: 5.4253 - val_loss: 2.9726\n",
            "Epoch 32/200\n",
            "2230/2230 [==============================] - 1s 292us/step - loss: 5.8278 - val_loss: 2.1965\n",
            "Epoch 33/200\n",
            "2230/2230 [==============================] - 1s 292us/step - loss: 4.8066 - val_loss: 2.2746\n",
            "Epoch 34/200\n",
            "2230/2230 [==============================] - 1s 296us/step - loss: 5.0347 - val_loss: 2.7595\n",
            "Epoch 35/200\n",
            "2230/2230 [==============================] - 1s 292us/step - loss: 4.8637 - val_loss: 2.4252\n",
            "Epoch 36/200\n",
            "2230/2230 [==============================] - 1s 269us/step - loss: 5.0207 - val_loss: 2.8649\n",
            "Epoch 37/200\n",
            "2230/2230 [==============================] - 1s 275us/step - loss: 4.9405 - val_loss: 2.7158\n",
            "Epoch 38/200\n",
            "2230/2230 [==============================] - 1s 277us/step - loss: 5.1627 - val_loss: 2.3807\n",
            "Epoch 39/200\n",
            "2230/2230 [==============================] - 1s 287us/step - loss: 5.0460 - val_loss: 2.3537\n",
            "Epoch 40/200\n",
            "2230/2230 [==============================] - 1s 286us/step - loss: 5.3602 - val_loss: 2.3509\n",
            "Epoch 41/200\n",
            "2230/2230 [==============================] - 1s 285us/step - loss: 4.6675 - val_loss: 2.5417\n",
            "Epoch 42/200\n",
            "2230/2230 [==============================] - 1s 275us/step - loss: 5.2376 - val_loss: 3.3335\n",
            "Epoch 00042: early stopping\n",
            "Train on 2230 samples, validate on 953 samples\n",
            "Epoch 1/200\n",
            "2230/2230 [==============================] - 1s 286us/step - loss: 6.1474 - val_loss: 2.0421\n",
            "Epoch 2/200\n",
            "2230/2230 [==============================] - 1s 276us/step - loss: 4.8195 - val_loss: 2.5101\n",
            "Epoch 3/200\n",
            "2230/2230 [==============================] - 1s 280us/step - loss: 4.9204 - val_loss: 2.0579\n",
            "Epoch 4/200\n",
            "2230/2230 [==============================] - 1s 284us/step - loss: 4.8210 - val_loss: 2.0345\n",
            "Epoch 5/200\n",
            "2230/2230 [==============================] - 1s 276us/step - loss: 4.9587 - val_loss: 2.3312\n",
            "Epoch 6/200\n",
            "2230/2230 [==============================] - 1s 284us/step - loss: 5.2549 - val_loss: 1.9933\n",
            "Epoch 7/200\n",
            "2230/2230 [==============================] - 1s 282us/step - loss: 5.2194 - val_loss: 2.0366\n",
            "Epoch 8/200\n",
            "2230/2230 [==============================] - 1s 272us/step - loss: 5.0074 - val_loss: 2.0227\n",
            "Epoch 9/200\n",
            "2230/2230 [==============================] - 1s 271us/step - loss: 4.8628 - val_loss: 2.0391\n",
            "Epoch 10/200\n",
            "2230/2230 [==============================] - 1s 288us/step - loss: 5.4581 - val_loss: 1.9408\n",
            "Epoch 11/200\n",
            "2230/2230 [==============================] - 1s 285us/step - loss: 4.9279 - val_loss: 2.1488\n",
            "Epoch 12/200\n",
            "2230/2230 [==============================] - 1s 283us/step - loss: 4.8323 - val_loss: 2.3492\n",
            "Epoch 13/200\n",
            "2230/2230 [==============================] - 1s 276us/step - loss: 4.7466 - val_loss: 1.9598\n",
            "Epoch 14/200\n",
            "2230/2230 [==============================] - 1s 273us/step - loss: 4.7707 - val_loss: 1.9373\n",
            "Epoch 15/200\n",
            "2230/2230 [==============================] - 1s 285us/step - loss: 4.7964 - val_loss: 2.0788\n",
            "Epoch 16/200\n",
            "2230/2230 [==============================] - 1s 281us/step - loss: 4.7078 - val_loss: 2.0042\n",
            "Epoch 17/200\n",
            "2230/2230 [==============================] - 1s 288us/step - loss: 4.8290 - val_loss: 1.8685\n",
            "Epoch 18/200\n",
            "2230/2230 [==============================] - 1s 285us/step - loss: 5.0165 - val_loss: 2.2422\n",
            "Epoch 19/200\n",
            "2230/2230 [==============================] - 1s 278us/step - loss: 5.0018 - val_loss: 1.9468\n",
            "Epoch 20/200\n",
            "2230/2230 [==============================] - 1s 272us/step - loss: 5.2034 - val_loss: 2.2356\n",
            "Epoch 21/200\n",
            "2230/2230 [==============================] - 1s 270us/step - loss: 5.3931 - val_loss: 2.4816\n",
            "Epoch 22/200\n",
            "2230/2230 [==============================] - 1s 282us/step - loss: 4.6460 - val_loss: 2.3429\n",
            "Epoch 23/200\n",
            "2230/2230 [==============================] - 1s 285us/step - loss: 4.8736 - val_loss: 2.8430\n",
            "Epoch 24/200\n",
            "2230/2230 [==============================] - 1s 285us/step - loss: 4.9653 - val_loss: 2.6363\n",
            "Epoch 25/200\n",
            "2230/2230 [==============================] - 1s 282us/step - loss: 4.7255 - val_loss: 3.5545\n",
            "Epoch 26/200\n",
            "2230/2230 [==============================] - 1s 274us/step - loss: 4.7069 - val_loss: 2.8563\n",
            "Epoch 27/200\n",
            "2230/2230 [==============================] - 1s 270us/step - loss: 5.2136 - val_loss: 3.1970\n",
            "Epoch 00027: early stopping\n"
          ],
          "name": "stdout"
        }
      ]
    },
    {
      "cell_type": "code",
      "metadata": {
        "id": "-T-JPMfVvWwI",
        "colab_type": "code",
        "colab": {}
      },
      "source": [
        ""
      ],
      "execution_count": 0,
      "outputs": []
    },
    {
      "cell_type": "code",
      "metadata": {
        "id": "oILaAB80uy0M",
        "colab_type": "code",
        "outputId": "58951452-c24b-49fd-c078-cdabecf8daa5",
        "colab": {
          "base_uri": "https://localhost:8080/",
          "height": 263
        }
      },
      "source": [
        "model.summary()"
      ],
      "execution_count": 21,
      "outputs": [
        {
          "output_type": "stream",
          "text": [
            "Model: \"sequential_1\"\n",
            "_________________________________________________________________\n",
            "Layer (type)                 Output Shape              Param #   \n",
            "=================================================================\n",
            "lstm_1 (LSTM)                (None, 128)               68608     \n",
            "_________________________________________________________________\n",
            "dense_1 (Dense)              (None, 32)                4128      \n",
            "_________________________________________________________________\n",
            "dense_2 (Dense)              (None, 1)                 33        \n",
            "=================================================================\n",
            "Total params: 72,769\n",
            "Trainable params: 72,769\n",
            "Non-trainable params: 0\n",
            "_________________________________________________________________\n"
          ],
          "name": "stdout"
        }
      ]
    },
    {
      "cell_type": "code",
      "metadata": {
        "id": "JOsvKVzAHkdX",
        "colab_type": "code",
        "outputId": "4d3b174c-1dd0-4ba3-d504-aa7869a95c86",
        "colab": {
          "base_uri": "https://localhost:8080/",
          "height": 295
        }
      },
      "source": [
        "# summarize history for loss\n",
        "plt.plot(history.history['loss'])\n",
        "plt.plot(history.history['val_loss'])\n",
        "plt.title('model loss')\n",
        "plt.ylabel('loss')\n",
        "plt.xlabel('epoch')\n",
        "plt.legend(['train', 'test'], loc='upper right')\n",
        "plt.show()"
      ],
      "execution_count": 22,
      "outputs": [
        {
          "output_type": "display_data",
          "data": {
            "image/png": "[encoded data removed]",
            "text/plain": [
              "<Figure size 432x288 with 1 Axes>"
            ]
          },
          "metadata": {
            "tags": []
          }
        }
      ]
    },
    {
      "cell_type": "code",
      "metadata": {
        "id": "6Hf-wTD8JQ30",
        "colab_type": "code",
        "colab": {}
      },
      "source": [
        "pred = model.predict(x_test)"
      ],
      "execution_count": 0,
      "outputs": []
    },
    {
      "cell_type": "code",
      "metadata": {
        "id": "_8ZoOvomJez0",
        "colab_type": "code",
        "outputId": "8c644178-e1e5-4817-d250-a63e0f70482a",
        "colab": {
          "base_uri": "https://localhost:8080/",
          "height": 35
        }
      },
      "source": [
        "from sklearn.metrics import mean_squared_error,r2_score\n",
        "rmse = np.sqrt(mean_squared_error(y_test, pred))\n",
        "print(\"LSTM RMSE\",rmse)\n",
        "# results['LSTM'] = {'RMSE': rmse, 'Training Time': train_time.total_seconds()}"
      ],
      "execution_count": 24,
      "outputs": [
        {
          "output_type": "stream",
          "text": [
            "LSTM RMSE 1.7880212868362433\n"
          ],
          "name": "stdout"
        }
      ]
    },
    {
      "cell_type": "code",
      "metadata": {
        "id": "MwGCzpDwwZMq",
        "colab_type": "code",
        "colab": {}
      },
      "source": [
        "# rpred = pred.reshape(pred.shape[0],)\n",
        "# create_lift(outcome=y_test, model_proba=rpred, precision = 2, vis = True)"
      ],
      "execution_count": 0,
      "outputs": []
    },
    {
      "cell_type": "code",
      "metadata": {
        "id": "Itq1emllKW_c",
        "colab_type": "code",
        "outputId": "777c669a-3151-4902-fabe-3ab8d765a221",
        "colab": {
          "base_uri": "https://localhost:8080/",
          "height": 288
        }
      },
      "source": [
        "aa=[x for x in range(150,200)]\n",
        "plt.plot(aa, y_test[150:200], marker='o', label=\"actual\")\n",
        "plt.plot(aa, pred[150:200], 'x', label=\"prediction\")\n",
        "\n",
        "plt.xlabel('Time step', size=15)\n",
        "plt.legend(fontsize=15)\n",
        "plt.show()\n"
      ],
      "execution_count": 25,
      "outputs": [
        {
          "output_type": "display_data",
          "data": {
            "image/png": "[encoded data removed]",
            "text/plain": [
              "<Figure size 432x288 with 1 Axes>"
            ]
          },
          "metadata": {
            "tags": []
          }
        }
      ]
    },
    {
      "cell_type": "code",
      "metadata": {
        "id": "pP1uNHSRvv_Y",
        "colab_type": "code",
        "colab": {}
      },
      "source": [
        "def chart_regression(y,pred,sort=True):\n",
        "    t = pd.DataFrame({'pred' : pred, 'y' : y})\n",
        "    if sort:\n",
        "        t.sort_values(by=['y'],inplace=True)\n",
        "    a = plt.plot(t['y'].tolist(),label='expected')\n",
        "    b = plt.plot(t['pred'].tolist(),label='prediction')\n",
        "    plt.ylabel('output')\n",
        "    plt.legend()\n",
        "    plt.show()"
      ],
      "execution_count": 0,
      "outputs": []
    },
    {
      "cell_type": "code",
      "metadata": {
        "id": "inexKsrcqaS5",
        "colab_type": "code",
        "outputId": "a04d1017-1b42-403b-d3bd-0909c09756e6",
        "colab": {
          "base_uri": "https://localhost:8080/",
          "height": 269
        }
      },
      "source": [
        "chart_regression(list(y_test), list(pred))"
      ],
      "execution_count": 27,
      "outputs": [
        {
          "output_type": "display_data",
          "data": {
            "image/png": "[encoded data removed]",
            "text/plain": [
              "<Figure size 432x288 with 1 Axes>"
            ]
          },
          "metadata": {
            "tags": []
          }
        }
      ]
    },
    {
      "cell_type": "code",
      "metadata": {
        "id": "oV9GAlGT4I9N",
        "colab_type": "code",
        "outputId": "cd5eeb0e-b5a3-43f7-83a1-a5711aa2e592",
        "colab": {
          "base_uri": "https://localhost:8080/",
          "height": 287
        }
      },
      "source": [
        "XT,YT = to_sequences(seq, lstm_df)\n",
        "\n",
        "pred_all = model.predict(XT)\n",
        "chart_regression(list(YT), list(pred_all), sort = False)"
      ],
      "execution_count": 29,
      "outputs": [
        {
          "output_type": "stream",
          "text": [
            "(3189, 5, 5)\n"
          ],
          "name": "stdout"
        },
        {
          "output_type": "display_data",
          "data": {
            "image/png": "[encoded data removed]",
            "text/plain": [
              "<Figure size 432x288 with 1 Axes>"
            ]
          },
          "metadata": {
            "tags": []
          }
        }
      ]
    }
  ]
}