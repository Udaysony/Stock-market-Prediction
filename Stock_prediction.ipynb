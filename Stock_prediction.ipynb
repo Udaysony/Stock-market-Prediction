{
  "nbformat": 4,
  "nbformat_minor": 0,
  "metadata": {
    "colab": {
      "name": "Stock prediction.ipynb",
      "provenance": []
    },
    "kernelspec": {
      "name": "python3",
      "display_name": "Python 3"
    }
  },
  "cells": [
    {
      "cell_type": "code",
      "metadata": {
        "id": "AnVVT0IwWiTw",
        "colab_type": "code",
        "colab": {}
      },
      "source": [
        "import pandas as pd\n",
        "import os\n",
        "from sklearn.model_selection import train_test_split\n",
        "import numpy as np\n",
        "from datetime import datetime\n",
        "from sklearn.metrics import mean_squared_error\n",
        "import matplotlib.pyplot as plt "
      ],
      "execution_count": 0,
      "outputs": []
    },
    {
      "cell_type": "code",
      "metadata": {
        "id": "Q8oJ0zejW4Qo",
        "colab_type": "code",
        "outputId": "dc33c5dc-35fc-49ca-d190-8c2ef6b401f7",
        "colab": {
          "base_uri": "https://localhost:8080/",
          "height": 125
        }
      },
      "source": [
        "from google.colab import drive\n",
        "drive.mount('/content/gdrive') # to  113"
      ],
      "execution_count": 0,
      "outputs": [
        {
          "output_type": "stream",
          "text": [
            "Go to this URL in a browser: https://accounts.google.com/o/oauth2/auth?client_id=947318989803-6bn6qk8qdgf4n4g3pfee6491hc0brc4i.apps.googleusercontent.com&redirect_uri=urn%3Aietf%3Awg%3Aoauth%3A2.0%3Aoob&scope=email%20https%3A%2F%2Fwww.googleapis.com%2Fauth%2Fdocs.test%20https%3A%2F%2Fwww.googleapis.com%2Fauth%2Fdrive%20https%3A%2F%2Fwww.googleapis.com%2Fauth%2Fdrive.photos.readonly%20https%3A%2F%2Fwww.googleapis.com%2Fauth%2Fpeopleapi.readonly&response_type=code\n",
            "\n",
            "Enter your authorization code:\n",
            "··········\n",
            "Mounted at /content/gdrive\n"
          ],
          "name": "stdout"
        }
      ]
    },
    {
      "cell_type": "code",
      "metadata": {
        "id": "w23UjJzKW0en",
        "colab_type": "code",
        "outputId": "48e11b83-d17c-442b-c7e4-0dbffa6fe258",
        "colab": {
          "base_uri": "https://localhost:8080/",
          "height": 35
        }
      },
      "source": [
        "data_path = \"/content/gdrive/My Drive/stock prediction/\"\n",
        "df = pd.read_csv(os.path.join(data_path, \"gogl.us.txt\"))\n",
        "print(df.shape)\n"
      ],
      "execution_count": 0,
      "outputs": [
        {
          "output_type": "stream",
          "text": [
            "(3201, 7)\n"
          ],
          "name": "stdout"
        }
      ]
    },
    {
      "cell_type": "code",
      "metadata": {
        "id": "gIPTYwCsYXGH",
        "colab_type": "code",
        "outputId": "645e848f-6519-4bc6-cd6d-0e746f5ae9ce",
        "colab": {
          "base_uri": "https://localhost:8080/",
          "height": 665
        }
      },
      "source": [
        "df.head(20)"
      ],
      "execution_count": 0,
      "outputs": [
        {
          "output_type": "execute_result",
          "data": {
            "text/html": [
              "<div>\n",
              "<style scoped>\n",
              "    .dataframe tbody tr th:only-of-type {\n",
              "        vertical-align: middle;\n",
              "    }\n",
              "\n",
              "    .dataframe tbody tr th {\n",
              "        vertical-align: top;\n",
              "    }\n",
              "\n",
              "    .dataframe thead th {\n",
              "        text-align: right;\n",
              "    }\n",
              "</style>\n",
              "<table border=\"1\" class=\"dataframe\">\n",
              "  <thead>\n",
              "    <tr style=\"text-align: right;\">\n",
              "      <th></th>\n",
              "      <th>Date</th>\n",
              "      <th>Open</th>\n",
              "      <th>High</th>\n",
              "      <th>Low</th>\n",
              "      <th>Close</th>\n",
              "      <th>Volume</th>\n",
              "      <th>OpenInt</th>\n",
              "    </tr>\n",
              "  </thead>\n",
              "  <tbody>\n",
              "    <tr>\n",
              "      <th>0</th>\n",
              "      <td>2005-02-25</td>\n",
              "      <td>141.94</td>\n",
              "      <td>143.84</td>\n",
              "      <td>141.20</td>\n",
              "      <td>143.18</td>\n",
              "      <td>89902</td>\n",
              "      <td>0</td>\n",
              "    </tr>\n",
              "    <tr>\n",
              "      <th>1</th>\n",
              "      <td>2005-02-28</td>\n",
              "      <td>143.70</td>\n",
              "      <td>147.19</td>\n",
              "      <td>139.47</td>\n",
              "      <td>143.14</td>\n",
              "      <td>124965</td>\n",
              "      <td>0</td>\n",
              "    </tr>\n",
              "    <tr>\n",
              "      <th>2</th>\n",
              "      <td>2005-03-01</td>\n",
              "      <td>141.79</td>\n",
              "      <td>142.57</td>\n",
              "      <td>131.36</td>\n",
              "      <td>134.50</td>\n",
              "      <td>229663</td>\n",
              "      <td>0</td>\n",
              "    </tr>\n",
              "    <tr>\n",
              "      <th>3</th>\n",
              "      <td>2005-03-02</td>\n",
              "      <td>135.27</td>\n",
              "      <td>139.11</td>\n",
              "      <td>135.06</td>\n",
              "      <td>137.56</td>\n",
              "      <td>88113</td>\n",
              "      <td>0</td>\n",
              "    </tr>\n",
              "    <tr>\n",
              "      <th>4</th>\n",
              "      <td>2005-03-03</td>\n",
              "      <td>138.59</td>\n",
              "      <td>138.59</td>\n",
              "      <td>132.24</td>\n",
              "      <td>134.89</td>\n",
              "      <td>120294</td>\n",
              "      <td>0</td>\n",
              "    </tr>\n",
              "    <tr>\n",
              "      <th>5</th>\n",
              "      <td>2005-03-04</td>\n",
              "      <td>134.00</td>\n",
              "      <td>137.00</td>\n",
              "      <td>133.34</td>\n",
              "      <td>136.47</td>\n",
              "      <td>68711</td>\n",
              "      <td>0</td>\n",
              "    </tr>\n",
              "    <tr>\n",
              "      <th>6</th>\n",
              "      <td>2005-03-07</td>\n",
              "      <td>136.66</td>\n",
              "      <td>137.35</td>\n",
              "      <td>134.18</td>\n",
              "      <td>135.06</td>\n",
              "      <td>81653</td>\n",
              "      <td>0</td>\n",
              "    </tr>\n",
              "    <tr>\n",
              "      <th>7</th>\n",
              "      <td>2005-03-08</td>\n",
              "      <td>134.36</td>\n",
              "      <td>134.78</td>\n",
              "      <td>130.41</td>\n",
              "      <td>130.54</td>\n",
              "      <td>150554</td>\n",
              "      <td>0</td>\n",
              "    </tr>\n",
              "    <tr>\n",
              "      <th>8</th>\n",
              "      <td>2005-03-09</td>\n",
              "      <td>130.72</td>\n",
              "      <td>132.17</td>\n",
              "      <td>127.52</td>\n",
              "      <td>129.21</td>\n",
              "      <td>131825</td>\n",
              "      <td>0</td>\n",
              "    </tr>\n",
              "    <tr>\n",
              "      <th>9</th>\n",
              "      <td>2005-03-10</td>\n",
              "      <td>129.21</td>\n",
              "      <td>129.21</td>\n",
              "      <td>119.22</td>\n",
              "      <td>121.95</td>\n",
              "      <td>312669</td>\n",
              "      <td>0</td>\n",
              "    </tr>\n",
              "    <tr>\n",
              "      <th>10</th>\n",
              "      <td>2005-03-11</td>\n",
              "      <td>123.92</td>\n",
              "      <td>128.57</td>\n",
              "      <td>123.92</td>\n",
              "      <td>126.67</td>\n",
              "      <td>128252</td>\n",
              "      <td>0</td>\n",
              "    </tr>\n",
              "    <tr>\n",
              "      <th>11</th>\n",
              "      <td>2005-03-14</td>\n",
              "      <td>126.21</td>\n",
              "      <td>134.14</td>\n",
              "      <td>126.21</td>\n",
              "      <td>132.70</td>\n",
              "      <td>129956</td>\n",
              "      <td>0</td>\n",
              "    </tr>\n",
              "    <tr>\n",
              "      <th>12</th>\n",
              "      <td>2005-03-15</td>\n",
              "      <td>135.06</td>\n",
              "      <td>135.76</td>\n",
              "      <td>130.34</td>\n",
              "      <td>131.78</td>\n",
              "      <td>107714</td>\n",
              "      <td>0</td>\n",
              "    </tr>\n",
              "    <tr>\n",
              "      <th>13</th>\n",
              "      <td>2005-03-16</td>\n",
              "      <td>133.97</td>\n",
              "      <td>133.97</td>\n",
              "      <td>131.36</td>\n",
              "      <td>132.77</td>\n",
              "      <td>46989</td>\n",
              "      <td>0</td>\n",
              "    </tr>\n",
              "    <tr>\n",
              "      <th>14</th>\n",
              "      <td>2005-03-17</td>\n",
              "      <td>134.92</td>\n",
              "      <td>138.66</td>\n",
              "      <td>133.70</td>\n",
              "      <td>137.60</td>\n",
              "      <td>103390</td>\n",
              "      <td>0</td>\n",
              "    </tr>\n",
              "    <tr>\n",
              "      <th>15</th>\n",
              "      <td>2005-03-18</td>\n",
              "      <td>137.71</td>\n",
              "      <td>139.89</td>\n",
              "      <td>134.57</td>\n",
              "      <td>137.39</td>\n",
              "      <td>101266</td>\n",
              "      <td>0</td>\n",
              "    </tr>\n",
              "    <tr>\n",
              "      <th>16</th>\n",
              "      <td>2005-03-21</td>\n",
              "      <td>139.57</td>\n",
              "      <td>139.82</td>\n",
              "      <td>136.76</td>\n",
              "      <td>138.59</td>\n",
              "      <td>66254</td>\n",
              "      <td>0</td>\n",
              "    </tr>\n",
              "    <tr>\n",
              "      <th>17</th>\n",
              "      <td>2005-03-22</td>\n",
              "      <td>138.23</td>\n",
              "      <td>139.78</td>\n",
              "      <td>136.47</td>\n",
              "      <td>136.82</td>\n",
              "      <td>65005</td>\n",
              "      <td>0</td>\n",
              "    </tr>\n",
              "    <tr>\n",
              "      <th>18</th>\n",
              "      <td>2005-03-23</td>\n",
              "      <td>136.12</td>\n",
              "      <td>136.66</td>\n",
              "      <td>131.72</td>\n",
              "      <td>132.67</td>\n",
              "      <td>80143</td>\n",
              "      <td>0</td>\n",
              "    </tr>\n",
              "    <tr>\n",
              "      <th>19</th>\n",
              "      <td>2005-03-24</td>\n",
              "      <td>132.59</td>\n",
              "      <td>135.31</td>\n",
              "      <td>131.54</td>\n",
              "      <td>133.70</td>\n",
              "      <td>49002</td>\n",
              "      <td>0</td>\n",
              "    </tr>\n",
              "  </tbody>\n",
              "</table>\n",
              "</div>"
            ],
            "text/plain": [
              "          Date    Open    High     Low   Close  Volume  OpenInt\n",
              "0   2005-02-25  141.94  143.84  141.20  143.18   89902        0\n",
              "1   2005-02-28  143.70  147.19  139.47  143.14  124965        0\n",
              "2   2005-03-01  141.79  142.57  131.36  134.50  229663        0\n",
              "3   2005-03-02  135.27  139.11  135.06  137.56   88113        0\n",
              "4   2005-03-03  138.59  138.59  132.24  134.89  120294        0\n",
              "5   2005-03-04  134.00  137.00  133.34  136.47   68711        0\n",
              "6   2005-03-07  136.66  137.35  134.18  135.06   81653        0\n",
              "7   2005-03-08  134.36  134.78  130.41  130.54  150554        0\n",
              "8   2005-03-09  130.72  132.17  127.52  129.21  131825        0\n",
              "9   2005-03-10  129.21  129.21  119.22  121.95  312669        0\n",
              "10  2005-03-11  123.92  128.57  123.92  126.67  128252        0\n",
              "11  2005-03-14  126.21  134.14  126.21  132.70  129956        0\n",
              "12  2005-03-15  135.06  135.76  130.34  131.78  107714        0\n",
              "13  2005-03-16  133.97  133.97  131.36  132.77   46989        0\n",
              "14  2005-03-17  134.92  138.66  133.70  137.60  103390        0\n",
              "15  2005-03-18  137.71  139.89  134.57  137.39  101266        0\n",
              "16  2005-03-21  139.57  139.82  136.76  138.59   66254        0\n",
              "17  2005-03-22  138.23  139.78  136.47  136.82   65005        0\n",
              "18  2005-03-23  136.12  136.66  131.72  132.67   80143        0\n",
              "19  2005-03-24  132.59  135.31  131.54  133.70   49002        0"
            ]
          },
          "metadata": {
            "tags": []
          },
          "execution_count": 4
        }
      ]
    },
    {
      "cell_type": "code",
      "metadata": {
        "id": "OzmdF2Hd6I9-",
        "colab_type": "code",
        "colab": {}
      },
      "source": [
        "df.drop(df.index[[0,1,2,3,4,5]], inplace = True)"
      ],
      "execution_count": 0,
      "outputs": []
    },
    {
      "cell_type": "code",
      "metadata": {
        "id": "X5XYZwgA5KY5",
        "colab_type": "code",
        "outputId": "633ad469-a5d6-4241-e453-0780bafe9f01",
        "colab": {
          "base_uri": "https://localhost:8080/",
          "height": 203
        }
      },
      "source": [
        "df.head(5) # Now data is in sequence of 5 days , Monday to Fridaya"
      ],
      "execution_count": 0,
      "outputs": [
        {
          "output_type": "execute_result",
          "data": {
            "text/html": [
              "<div>\n",
              "<style scoped>\n",
              "    .dataframe tbody tr th:only-of-type {\n",
              "        vertical-align: middle;\n",
              "    }\n",
              "\n",
              "    .dataframe tbody tr th {\n",
              "        vertical-align: top;\n",
              "    }\n",
              "\n",
              "    .dataframe thead th {\n",
              "        text-align: right;\n",
              "    }\n",
              "</style>\n",
              "<table border=\"1\" class=\"dataframe\">\n",
              "  <thead>\n",
              "    <tr style=\"text-align: right;\">\n",
              "      <th></th>\n",
              "      <th>Date</th>\n",
              "      <th>Open</th>\n",
              "      <th>High</th>\n",
              "      <th>Low</th>\n",
              "      <th>Close</th>\n",
              "      <th>Volume</th>\n",
              "      <th>OpenInt</th>\n",
              "    </tr>\n",
              "  </thead>\n",
              "  <tbody>\n",
              "    <tr>\n",
              "      <th>6</th>\n",
              "      <td>2005-03-07</td>\n",
              "      <td>136.66</td>\n",
              "      <td>137.35</td>\n",
              "      <td>134.18</td>\n",
              "      <td>135.06</td>\n",
              "      <td>81653</td>\n",
              "      <td>0</td>\n",
              "    </tr>\n",
              "    <tr>\n",
              "      <th>7</th>\n",
              "      <td>2005-03-08</td>\n",
              "      <td>134.36</td>\n",
              "      <td>134.78</td>\n",
              "      <td>130.41</td>\n",
              "      <td>130.54</td>\n",
              "      <td>150554</td>\n",
              "      <td>0</td>\n",
              "    </tr>\n",
              "    <tr>\n",
              "      <th>8</th>\n",
              "      <td>2005-03-09</td>\n",
              "      <td>130.72</td>\n",
              "      <td>132.17</td>\n",
              "      <td>127.52</td>\n",
              "      <td>129.21</td>\n",
              "      <td>131825</td>\n",
              "      <td>0</td>\n",
              "    </tr>\n",
              "    <tr>\n",
              "      <th>9</th>\n",
              "      <td>2005-03-10</td>\n",
              "      <td>129.21</td>\n",
              "      <td>129.21</td>\n",
              "      <td>119.22</td>\n",
              "      <td>121.95</td>\n",
              "      <td>312669</td>\n",
              "      <td>0</td>\n",
              "    </tr>\n",
              "    <tr>\n",
              "      <th>10</th>\n",
              "      <td>2005-03-11</td>\n",
              "      <td>123.92</td>\n",
              "      <td>128.57</td>\n",
              "      <td>123.92</td>\n",
              "      <td>126.67</td>\n",
              "      <td>128252</td>\n",
              "      <td>0</td>\n",
              "    </tr>\n",
              "  </tbody>\n",
              "</table>\n",
              "</div>"
            ],
            "text/plain": [
              "          Date    Open    High     Low   Close  Volume  OpenInt\n",
              "6   2005-03-07  136.66  137.35  134.18  135.06   81653        0\n",
              "7   2005-03-08  134.36  134.78  130.41  130.54  150554        0\n",
              "8   2005-03-09  130.72  132.17  127.52  129.21  131825        0\n",
              "9   2005-03-10  129.21  129.21  119.22  121.95  312669        0\n",
              "10  2005-03-11  123.92  128.57  123.92  126.67  128252        0"
            ]
          },
          "metadata": {
            "tags": []
          },
          "execution_count": 6
        }
      ]
    },
    {
      "cell_type": "code",
      "metadata": {
        "id": "qW2aBp_XrveV",
        "colab_type": "code",
        "outputId": "e4a180b4-94b7-4f6a-89bc-c6970165849a",
        "colab": {
          "base_uri": "https://localhost:8080/",
          "height": 203
        }
      },
      "source": [
        "df.drop([\"Date\", \"OpenInt\"], axis = 1, inplace = True)\n",
        "df.head()"
      ],
      "execution_count": 0,
      "outputs": [
        {
          "output_type": "execute_result",
          "data": {
            "text/html": [
              "<div>\n",
              "<style scoped>\n",
              "    .dataframe tbody tr th:only-of-type {\n",
              "        vertical-align: middle;\n",
              "    }\n",
              "\n",
              "    .dataframe tbody tr th {\n",
              "        vertical-align: top;\n",
              "    }\n",
              "\n",
              "    .dataframe thead th {\n",
              "        text-align: right;\n",
              "    }\n",
              "</style>\n",
              "<table border=\"1\" class=\"dataframe\">\n",
              "  <thead>\n",
              "    <tr style=\"text-align: right;\">\n",
              "      <th></th>\n",
              "      <th>Open</th>\n",
              "      <th>High</th>\n",
              "      <th>Low</th>\n",
              "      <th>Close</th>\n",
              "      <th>Volume</th>\n",
              "    </tr>\n",
              "  </thead>\n",
              "  <tbody>\n",
              "    <tr>\n",
              "      <th>6</th>\n",
              "      <td>136.66</td>\n",
              "      <td>137.35</td>\n",
              "      <td>134.18</td>\n",
              "      <td>135.06</td>\n",
              "      <td>81653</td>\n",
              "    </tr>\n",
              "    <tr>\n",
              "      <th>7</th>\n",
              "      <td>134.36</td>\n",
              "      <td>134.78</td>\n",
              "      <td>130.41</td>\n",
              "      <td>130.54</td>\n",
              "      <td>150554</td>\n",
              "    </tr>\n",
              "    <tr>\n",
              "      <th>8</th>\n",
              "      <td>130.72</td>\n",
              "      <td>132.17</td>\n",
              "      <td>127.52</td>\n",
              "      <td>129.21</td>\n",
              "      <td>131825</td>\n",
              "    </tr>\n",
              "    <tr>\n",
              "      <th>9</th>\n",
              "      <td>129.21</td>\n",
              "      <td>129.21</td>\n",
              "      <td>119.22</td>\n",
              "      <td>121.95</td>\n",
              "      <td>312669</td>\n",
              "    </tr>\n",
              "    <tr>\n",
              "      <th>10</th>\n",
              "      <td>123.92</td>\n",
              "      <td>128.57</td>\n",
              "      <td>123.92</td>\n",
              "      <td>126.67</td>\n",
              "      <td>128252</td>\n",
              "    </tr>\n",
              "  </tbody>\n",
              "</table>\n",
              "</div>"
            ],
            "text/plain": [
              "      Open    High     Low   Close  Volume\n",
              "6   136.66  137.35  134.18  135.06   81653\n",
              "7   134.36  134.78  130.41  130.54  150554\n",
              "8   130.72  132.17  127.52  129.21  131825\n",
              "9   129.21  129.21  119.22  121.95  312669\n",
              "10  123.92  128.57  123.92  126.67  128252"
            ]
          },
          "metadata": {
            "tags": []
          },
          "execution_count": 7
        }
      ]
    },
    {
      "cell_type": "code",
      "metadata": {
        "id": "eayF27op5gKy",
        "colab_type": "code",
        "colab": {}
      },
      "source": [
        ""
      ],
      "execution_count": 0,
      "outputs": []
    },
    {
      "cell_type": "code",
      "metadata": {
        "id": "g277i7Nw5R4A",
        "colab_type": "code",
        "colab": {}
      },
      "source": [
        ""
      ],
      "execution_count": 0,
      "outputs": []
    },
    {
      "cell_type": "code",
      "metadata": {
        "id": "vuX9Ub0M0J55",
        "colab_type": "code",
        "colab": {}
      },
      "source": [
        "x_columns = ['Open', 'High', 'Low', 'Volume']\n",
        "y_columns = ['Close']\n",
        "x_data_original = df[x_columns]\n",
        "y_data_original = df[y_columns]"
      ],
      "execution_count": 0,
      "outputs": []
    },
    {
      "cell_type": "code",
      "metadata": {
        "id": "yc5BJKoJ0tij",
        "colab_type": "code",
        "outputId": "98cbc2ff-ef15-4ee8-bd53-59bf137cc763",
        "colab": {
          "base_uri": "https://localhost:8080/",
          "height": 203
        }
      },
      "source": [
        "x_data_original.head()"
      ],
      "execution_count": 0,
      "outputs": [
        {
          "output_type": "execute_result",
          "data": {
            "text/html": [
              "<div>\n",
              "<style scoped>\n",
              "    .dataframe tbody tr th:only-of-type {\n",
              "        vertical-align: middle;\n",
              "    }\n",
              "\n",
              "    .dataframe tbody tr th {\n",
              "        vertical-align: top;\n",
              "    }\n",
              "\n",
              "    .dataframe thead th {\n",
              "        text-align: right;\n",
              "    }\n",
              "</style>\n",
              "<table border=\"1\" class=\"dataframe\">\n",
              "  <thead>\n",
              "    <tr style=\"text-align: right;\">\n",
              "      <th></th>\n",
              "      <th>Open</th>\n",
              "      <th>High</th>\n",
              "      <th>Low</th>\n",
              "      <th>Volume</th>\n",
              "    </tr>\n",
              "  </thead>\n",
              "  <tbody>\n",
              "    <tr>\n",
              "      <th>6</th>\n",
              "      <td>136.66</td>\n",
              "      <td>137.35</td>\n",
              "      <td>134.18</td>\n",
              "      <td>81653</td>\n",
              "    </tr>\n",
              "    <tr>\n",
              "      <th>7</th>\n",
              "      <td>134.36</td>\n",
              "      <td>134.78</td>\n",
              "      <td>130.41</td>\n",
              "      <td>150554</td>\n",
              "    </tr>\n",
              "    <tr>\n",
              "      <th>8</th>\n",
              "      <td>130.72</td>\n",
              "      <td>132.17</td>\n",
              "      <td>127.52</td>\n",
              "      <td>131825</td>\n",
              "    </tr>\n",
              "    <tr>\n",
              "      <th>9</th>\n",
              "      <td>129.21</td>\n",
              "      <td>129.21</td>\n",
              "      <td>119.22</td>\n",
              "      <td>312669</td>\n",
              "    </tr>\n",
              "    <tr>\n",
              "      <th>10</th>\n",
              "      <td>123.92</td>\n",
              "      <td>128.57</td>\n",
              "      <td>123.92</td>\n",
              "      <td>128252</td>\n",
              "    </tr>\n",
              "  </tbody>\n",
              "</table>\n",
              "</div>"
            ],
            "text/plain": [
              "      Open    High     Low  Volume\n",
              "6   136.66  137.35  134.18   81653\n",
              "7   134.36  134.78  130.41  150554\n",
              "8   130.72  132.17  127.52  131825\n",
              "9   129.21  129.21  119.22  312669\n",
              "10  123.92  128.57  123.92  128252"
            ]
          },
          "metadata": {
            "tags": []
          },
          "execution_count": 9
        }
      ]
    },
    {
      "cell_type": "code",
      "metadata": {
        "id": "wnJ2riPw00El",
        "colab_type": "code",
        "outputId": "69094787-fa3a-4e93-c776-55d42c1b8cae",
        "colab": {
          "base_uri": "https://localhost:8080/",
          "height": 105
        }
      },
      "source": [
        "from sklearn.preprocessing import MinMaxScaler\n",
        "scaler = MinMaxScaler()\n",
        "x_data = scaler.fit_transform(x_data_original)\n",
        "# y_data = scaler.fit_transform(y_data_original)\n",
        "y_data = y_data_original.values\n",
        "print(x_data[0:5])"
      ],
      "execution_count": 0,
      "outputs": [
        {
          "output_type": "stream",
          "text": [
            "[[0.82169354 0.8168843  0.81895104 0.03513489]\n",
            " [0.8075909  0.80127543 0.79549555 0.06762313]\n",
            " [0.78527194 0.78542363 0.77751509 0.05879202]\n",
            " [0.77601324 0.7674461  0.72587569 0.1440637 ]\n",
            " [0.74357717 0.76355906 0.75511728 0.05710728]]\n"
          ],
          "name": "stdout"
        }
      ]
    },
    {
      "cell_type": "code",
      "metadata": {
        "id": "BqmD3UAsstJZ",
        "colab_type": "code",
        "colab": {}
      },
      "source": [
        ""
      ],
      "execution_count": 0,
      "outputs": []
    },
    {
      "cell_type": "markdown",
      "metadata": {
        "id": "WgV9Cf1pyrHM",
        "colab_type": "text"
      },
      "source": [
        "***Neural Network***"
      ]
    },
    {
      "cell_type": "code",
      "metadata": {
        "id": "KVikKocQ3A1V",
        "colab_type": "code",
        "outputId": "c1f4bc47-f879-4296-af90-499c29658f9f",
        "colab": {
          "base_uri": "https://localhost:8080/",
          "height": 35
        }
      },
      "source": [
        "from sklearn import metrics\n",
        "from keras.models import Sequential\n",
        "from keras.layers.core import Dense, Activation, Dropout\n",
        "from keras.callbacks import EarlyStopping\n",
        "from keras.callbacks import ModelCheckpoint\n",
        "from keras.utils import to_categorical\n",
        "from datetime import datetime\n",
        "from keras import regularizers"
      ],
      "execution_count": 0,
      "outputs": [
        {
          "output_type": "stream",
          "text": [
            "Using TensorFlow backend.\n"
          ],
          "name": "stderr"
        }
      ]
    },
    {
      "cell_type": "code",
      "metadata": {
        "id": "3QKG9GmnQEbT",
        "colab_type": "code",
        "colab": {}
      },
      "source": [
        "from keras.layers.recurrent import LSTM, RNN\n",
        "import sys"
      ],
      "execution_count": 0,
      "outputs": []
    },
    {
      "cell_type": "markdown",
      "metadata": {
        "id": "1-h8d15D1iZN",
        "colab_type": "text"
      },
      "source": [
        "## **LSTM**"
      ]
    },
    {
      "cell_type": "code",
      "metadata": {
        "id": "f2u0i01-2DSD",
        "colab_type": "code",
        "colab": {}
      },
      "source": [
        "def to_sequences(seq_size, data):\n",
        "    x = []\n",
        "    y = []\n",
        "\n",
        "    for i in range(len(data)-seq_size-1):\n",
        "        #print(i)\n",
        "        window = data.iloc[i:(i+seq_size),:].values\n",
        "        after_window = data.iloc[i+seq_size,-1]\n",
        "        window = [x for x in window]\n",
        "        #print(\"{} - {}\".format(window,after_window))\n",
        "#         x.append(scaler.fit_transform(window))\n",
        "        x.append(window)\n",
        "        y.append(after_window)\n",
        "    print(np.array(x).shape)\n",
        "    return np.array(x),np.array(y)"
      ],
      "execution_count": 0,
      "outputs": []
    },
    {
      "cell_type": "code",
      "metadata": {
        "id": "yjNKLiqd2q3L",
        "colab_type": "code",
        "colab": {}
      },
      "source": [
        "lstm_df = pd.DataFrame(np.hstack([x_data,y_data])) # combining normalized data and the target (\"Close\" price)."
      ],
      "execution_count": 0,
      "outputs": []
    },
    {
      "cell_type": "code",
      "metadata": {
        "id": "lgdkTONbuC7z",
        "colab_type": "code",
        "outputId": "af67cf7a-04d5-47da-98fa-b3620d17cd03",
        "colab": {
          "base_uri": "https://localhost:8080/",
          "height": 35
        }
      },
      "source": [
        "seq = 5\n",
        "xt, yt = to_sequences(seq, lstm_df)"
      ],
      "execution_count": 0,
      "outputs": [
        {
          "output_type": "stream",
          "text": [
            "(3189, 5, 5)\n"
          ],
          "name": "stdout"
        }
      ]
    },
    {
      "cell_type": "code",
      "metadata": {
        "id": "OngZ146HuF3k",
        "colab_type": "code",
        "colab": {}
      },
      "source": [
        "# train = lstm_df[:int(len(lstm_df)*0.7)]\n",
        "# # test = lstm_df[int(len(lstm_df)*0.7):]"
      ],
      "execution_count": 0,
      "outputs": []
    },
    {
      "cell_type": "code",
      "metadata": {
        "id": "vhn44Lvh4zJ9",
        "colab_type": "code",
        "colab": {}
      },
      "source": [
        "# train.head(10)"
      ],
      "execution_count": 0,
      "outputs": []
    },
    {
      "cell_type": "code",
      "metadata": {
        "id": "EmpmJMrK4bY1",
        "colab_type": "code",
        "colab": {}
      },
      "source": [
        "x_train, x_test , y_train, y_test  = train_test_split(xt,yt, test_size = 0.2)"
      ],
      "execution_count": 0,
      "outputs": []
    },
    {
      "cell_type": "code",
      "metadata": {
        "id": "u9m7dLhfsbJ_",
        "colab_type": "code",
        "outputId": "00d4b356-c0fe-47ed-fe46-288d38a6c0e2",
        "colab": {
          "base_uri": "https://localhost:8080/",
          "height": 193
        }
      },
      "source": [
        "x_train[0]"
      ],
      "execution_count": 0,
      "outputs": [
        {
          "output_type": "execute_result",
          "data": {
            "text/plain": [
              "array([[4.81298669e-01, 4.87701184e-01, 4.80433024e-01, 2.96996697e-02,\n",
              "        8.24450000e+01],\n",
              "       [5.40131216e-01, 5.33798968e-01, 4.86530206e-01, 2.26282748e-02,\n",
              "        8.28350000e+01],\n",
              "       [5.01042369e-01, 4.95080474e-01, 4.88832203e-01, 1.34779456e-02,\n",
              "        8.18000000e+01],\n",
              "       [4.91047888e-01, 4.90920134e-01, 4.96453680e-01, 1.91597691e-02,\n",
              "        8.29800000e+01],\n",
              "       [4.97271445e-01, 5.20680231e-01, 5.05195048e-01, 2.55908389e-02,\n",
              "        8.84750000e+01]])"
            ]
          },
          "metadata": {
            "tags": []
          },
          "execution_count": 98
        }
      ]
    },
    {
      "cell_type": "code",
      "metadata": {
        "id": "wzWgh1L75GSz",
        "colab_type": "code",
        "outputId": "11a33d47-7268-4cca-adf9-40d82ad000db",
        "colab": {
          "base_uri": "https://localhost:8080/",
          "height": 35
        }
      },
      "source": [
        "y_train[0]"
      ],
      "execution_count": 0,
      "outputs": [
        {
          "output_type": "execute_result",
          "data": {
            "text/plain": [
              "94.475"
            ]
          },
          "metadata": {
            "tags": []
          },
          "execution_count": 25
        }
      ]
    },
    {
      "cell_type": "code",
      "metadata": {
        "id": "tku1Cp6c5qx8",
        "colab_type": "code",
        "outputId": "f097f7ed-27a6-4705-dd3f-c36c15cfdb69",
        "colab": {
          "base_uri": "https://localhost:8080/",
          "height": 1000
        }
      },
      "source": [
        "model = Sequential()\n",
        "model.add(LSTM(128, dropout=0.0, recurrent_dropout=0.0, input_shape=(seq, 5), activation = \"relu\")) \n",
        "# model.add(Dropout(0.2))\n",
        "model.add(Dense(32, activation =\"relu\"))\n",
        "# model.add(Dropout(0.3))\n",
        "model.add(Dense(1, activation = \"linear\"))\n",
        "model.compile(loss='mean_squared_error', optimizer='adam')\n",
        "\n",
        "monitor = EarlyStopping(monitor='val_loss', min_delta=0.01, patience=10, verbose=20, mode='auto')\n",
        "# t1= datetime.now()\n",
        "for i in range(3):\n",
        "  history = model.fit(x_train,y_train,validation_data=(x_test,y_test),callbacks=[monitor],verbose=1, epochs=200)\n",
        "# train_time = datetime.now() - t1"
      ],
      "execution_count": 0,
      "outputs": [
        {
          "output_type": "stream",
          "text": [
            "Train on 2551 samples, validate on 638 samples\n",
            "Epoch 1/200\n",
            "2551/2551 [==============================] - 7s 3ms/step - loss: 1146.4312 - val_loss: 8.8366\n",
            "Epoch 2/200\n",
            "2551/2551 [==============================] - 1s 396us/step - loss: 10.0559 - val_loss: 8.1391\n",
            "Epoch 3/200\n",
            "2551/2551 [==============================] - 1s 403us/step - loss: 9.6414 - val_loss: 7.4525\n",
            "Epoch 4/200\n",
            "2551/2551 [==============================] - 1s 408us/step - loss: 8.7495 - val_loss: 6.2230\n",
            "Epoch 5/200\n",
            "2551/2551 [==============================] - 1s 403us/step - loss: 7.9139 - val_loss: 6.0311\n",
            "Epoch 6/200\n",
            "2551/2551 [==============================] - 1s 419us/step - loss: 7.5904 - val_loss: 5.4029\n",
            "Epoch 7/200\n",
            "2551/2551 [==============================] - 1s 415us/step - loss: 6.4046 - val_loss: 6.0199\n",
            "Epoch 8/200\n",
            "2551/2551 [==============================] - 1s 386us/step - loss: 6.0870 - val_loss: 4.8542\n",
            "Epoch 9/200\n",
            "2551/2551 [==============================] - 1s 375us/step - loss: 6.0265 - val_loss: 3.7999\n",
            "Epoch 10/200\n",
            "2551/2551 [==============================] - 1s 390us/step - loss: 5.3078 - val_loss: 4.0244\n",
            "Epoch 11/200\n",
            "2551/2551 [==============================] - 1s 385us/step - loss: 5.6387 - val_loss: 4.8877\n",
            "Epoch 12/200\n",
            "2551/2551 [==============================] - 1s 397us/step - loss: 5.1265 - val_loss: 7.4121\n",
            "Epoch 13/200\n",
            "2551/2551 [==============================] - 1s 383us/step - loss: 4.9090 - val_loss: 4.0538\n",
            "Epoch 14/200\n",
            "2551/2551 [==============================] - 1s 389us/step - loss: 4.7766 - val_loss: 3.9959\n",
            "Epoch 15/200\n",
            "2551/2551 [==============================] - 1s 339us/step - loss: 4.7911 - val_loss: 4.1946\n",
            "Epoch 16/200\n",
            "2551/2551 [==============================] - 1s 393us/step - loss: 5.1366 - val_loss: 3.5815\n",
            "Epoch 17/200\n",
            "2551/2551 [==============================] - 1s 395us/step - loss: 4.9393 - val_loss: 3.8123\n",
            "Epoch 18/200\n",
            "2551/2551 [==============================] - 1s 359us/step - loss: 4.6995 - val_loss: 6.7286\n",
            "Epoch 19/200\n",
            "2551/2551 [==============================] - 1s 350us/step - loss: 4.6260 - val_loss: 3.4353\n",
            "Epoch 20/200\n",
            "2551/2551 [==============================] - 1s 350us/step - loss: 4.5686 - val_loss: 3.7177\n",
            "Epoch 21/200\n",
            "2551/2551 [==============================] - 1s 382us/step - loss: 4.6013 - val_loss: 5.4478\n",
            "Epoch 22/200\n",
            "2551/2551 [==============================] - 1s 384us/step - loss: 4.6842 - val_loss: 4.1028\n",
            "Epoch 23/200\n",
            "2551/2551 [==============================] - 1s 395us/step - loss: 4.4015 - val_loss: 4.7209\n",
            "Epoch 24/200\n",
            "2551/2551 [==============================] - 1s 375us/step - loss: 5.5428 - val_loss: 3.4664\n",
            "Epoch 25/200\n",
            "2551/2551 [==============================] - 1s 375us/step - loss: 4.4851 - val_loss: 3.7400\n",
            "Epoch 26/200\n",
            "2551/2551 [==============================] - 1s 360us/step - loss: 4.2855 - val_loss: 3.9880\n",
            "Epoch 27/200\n",
            "2551/2551 [==============================] - 1s 389us/step - loss: 4.7799 - val_loss: 3.4273\n",
            "Epoch 28/200\n",
            "2551/2551 [==============================] - 1s 384us/step - loss: 4.4442 - val_loss: 6.4423\n",
            "Epoch 29/200\n",
            "2551/2551 [==============================] - 1s 383us/step - loss: 4.3532 - val_loss: 3.7495\n",
            "Epoch 00029: early stopping\n",
            "Train on 2551 samples, validate on 638 samples\n",
            "Epoch 1/200\n",
            "2551/2551 [==============================] - 1s 387us/step - loss: 4.5313 - val_loss: 3.5566\n",
            "Epoch 2/200\n",
            "2551/2551 [==============================] - 1s 394us/step - loss: 4.3822 - val_loss: 3.4124\n",
            "Epoch 3/200\n",
            "2551/2551 [==============================] - 1s 381us/step - loss: 4.4643 - val_loss: 3.5081\n",
            "Epoch 4/200\n",
            "2551/2551 [==============================] - 1s 372us/step - loss: 4.2450 - val_loss: 3.3627\n",
            "Epoch 5/200\n",
            "2551/2551 [==============================] - 1s 337us/step - loss: 4.6461 - val_loss: 3.4393\n",
            "Epoch 6/200\n",
            "2551/2551 [==============================] - 1s 341us/step - loss: 4.6968 - val_loss: 3.2839\n",
            "Epoch 7/200\n",
            "2551/2551 [==============================] - 1s 350us/step - loss: 4.2035 - val_loss: 3.3658\n",
            "Epoch 8/200\n",
            "2551/2551 [==============================] - 1s 325us/step - loss: 4.0600 - val_loss: 3.4286\n",
            "Epoch 9/200\n",
            "2551/2551 [==============================] - 1s 346us/step - loss: 4.6098 - val_loss: 3.6249\n",
            "Epoch 10/200\n",
            "2551/2551 [==============================] - 1s 330us/step - loss: 4.3881 - val_loss: 3.7688\n",
            "Epoch 11/200\n",
            "2551/2551 [==============================] - 1s 345us/step - loss: 4.4530 - val_loss: 4.1990\n",
            "Epoch 12/200\n",
            "2551/2551 [==============================] - 1s 361us/step - loss: 4.2063 - val_loss: 3.5187\n",
            "Epoch 13/200\n",
            "2551/2551 [==============================] - 1s 400us/step - loss: 4.4976 - val_loss: 5.3681\n",
            "Epoch 14/200\n",
            "2551/2551 [==============================] - 1s 387us/step - loss: 4.3907 - val_loss: 3.2603\n",
            "Epoch 15/200\n",
            "2551/2551 [==============================] - 1s 389us/step - loss: 4.3123 - val_loss: 3.3143\n",
            "Epoch 16/200\n",
            "2551/2551 [==============================] - 1s 390us/step - loss: 4.4832 - val_loss: 3.3344\n",
            "Epoch 17/200\n",
            "2551/2551 [==============================] - 1s 374us/step - loss: 4.0292 - val_loss: 3.7670\n",
            "Epoch 18/200\n",
            "2551/2551 [==============================] - 1s 375us/step - loss: 4.8697 - val_loss: 3.4148\n",
            "Epoch 19/200\n",
            "2551/2551 [==============================] - 1s 373us/step - loss: 3.9083 - val_loss: 5.2936\n",
            "Epoch 20/200\n",
            "2551/2551 [==============================] - 1s 389us/step - loss: 4.8137 - val_loss: 3.2652\n",
            "Epoch 21/200\n",
            "2551/2551 [==============================] - 1s 391us/step - loss: 4.1925 - val_loss: 4.9148\n",
            "Epoch 22/200\n",
            "2551/2551 [==============================] - 1s 410us/step - loss: 4.8735 - val_loss: 3.8142\n",
            "Epoch 23/200\n",
            "2551/2551 [==============================] - 1s 396us/step - loss: 3.8859 - val_loss: 5.0805\n",
            "Epoch 24/200\n",
            "2551/2551 [==============================] - 1s 399us/step - loss: 4.2313 - val_loss: 4.6297\n",
            "Epoch 00024: early stopping\n",
            "Train on 2551 samples, validate on 638 samples\n",
            "Epoch 1/200\n",
            "2551/2551 [==============================] - 1s 392us/step - loss: 4.2530 - val_loss: 3.3752\n",
            "Epoch 2/200\n",
            "2551/2551 [==============================] - 1s 389us/step - loss: 4.3317 - val_loss: 3.3455\n",
            "Epoch 3/200\n",
            "2551/2551 [==============================] - 1s 383us/step - loss: 4.0374 - val_loss: 3.4317\n",
            "Epoch 4/200\n",
            "2551/2551 [==============================] - 1s 386us/step - loss: 4.5487 - val_loss: 3.3042\n",
            "Epoch 5/200\n",
            "2551/2551 [==============================] - 1s 383us/step - loss: 4.2182 - val_loss: 6.0614\n",
            "Epoch 6/200\n",
            "2551/2551 [==============================] - 1s 388us/step - loss: 5.0221 - val_loss: 4.2279\n",
            "Epoch 7/200\n",
            "2551/2551 [==============================] - 1s 402us/step - loss: 4.3138 - val_loss: 3.7446\n",
            "Epoch 8/200\n",
            "2551/2551 [==============================] - 1s 389us/step - loss: 4.6439 - val_loss: 3.3433\n",
            "Epoch 9/200\n",
            "2551/2551 [==============================] - 1s 392us/step - loss: 4.3026 - val_loss: 4.8302\n",
            "Epoch 10/200\n",
            "2551/2551 [==============================] - 1s 378us/step - loss: 4.8502 - val_loss: 4.0684\n",
            "Epoch 11/200\n",
            "2551/2551 [==============================] - 1s 384us/step - loss: 4.2476 - val_loss: 3.8617\n",
            "Epoch 12/200\n",
            "2551/2551 [==============================] - 1s 360us/step - loss: 4.0416 - val_loss: 4.3620\n",
            "Epoch 13/200\n",
            "2551/2551 [==============================] - 1s 344us/step - loss: 4.3196 - val_loss: 3.8731\n",
            "Epoch 14/200\n",
            "2551/2551 [==============================] - 1s 380us/step - loss: 4.1612 - val_loss: 3.5063\n",
            "Epoch 00014: early stopping\n"
          ],
          "name": "stdout"
        }
      ]
    },
    {
      "cell_type": "code",
      "metadata": {
        "id": "-T-JPMfVvWwI",
        "colab_type": "code",
        "colab": {}
      },
      "source": [
        ""
      ],
      "execution_count": 0,
      "outputs": []
    },
    {
      "cell_type": "code",
      "metadata": {
        "id": "oILaAB80uy0M",
        "colab_type": "code",
        "outputId": "979f48d1-f191-45ad-d980-73b5373a9eef",
        "colab": {
          "base_uri": "https://localhost:8080/",
          "height": 263
        }
      },
      "source": [
        "model.summary()"
      ],
      "execution_count": 0,
      "outputs": [
        {
          "output_type": "stream",
          "text": [
            "Model: \"sequential_14\"\n",
            "_________________________________________________________________\n",
            "Layer (type)                 Output Shape              Param #   \n",
            "=================================================================\n",
            "lstm_14 (LSTM)               (None, 200)               164800    \n",
            "_________________________________________________________________\n",
            "dense_27 (Dense)             (None, 100)               20100     \n",
            "_________________________________________________________________\n",
            "dense_28 (Dense)             (None, 1)                 101       \n",
            "=================================================================\n",
            "Total params: 185,001\n",
            "Trainable params: 185,001\n",
            "Non-trainable params: 0\n",
            "_________________________________________________________________\n"
          ],
          "name": "stdout"
        }
      ]
    },
    {
      "cell_type": "code",
      "metadata": {
        "id": "JOsvKVzAHkdX",
        "colab_type": "code",
        "outputId": "cb4fd3c6-0050-4188-bab8-cb0defa8d0c9",
        "colab": {
          "base_uri": "https://localhost:8080/",
          "height": 295
        }
      },
      "source": [
        "# summarize history for loss\n",
        "plt.plot(history.history['loss'])\n",
        "plt.plot(history.history['val_loss'])\n",
        "plt.title('model loss')\n",
        "plt.ylabel('loss')\n",
        "plt.xlabel('epoch')\n",
        "plt.legend(['train', 'test'], loc='upper right')\n",
        "plt.show()"
      ],
      "execution_count": 0,
      "outputs": [
        {
          "output_type": "display_data",
          "data": {
            "image/png": "[encoded data removed]",
            "text/plain": [
              "<Figure size 432x288 with 1 Axes>"
            ]
          },
          "metadata": {
            "tags": []
          }
        }
      ]
    },
    {
      "cell_type": "code",
      "metadata": {
        "id": "6Hf-wTD8JQ30",
        "colab_type": "code",
        "colab": {}
      },
      "source": [
        "pred = model.predict(x_test)"
      ],
      "execution_count": 0,
      "outputs": []
    },
    {
      "cell_type": "code",
      "metadata": {
        "id": "_8ZoOvomJez0",
        "colab_type": "code",
        "outputId": "0732cb0c-e5bb-4baa-9213-295bc3e41dfe",
        "colab": {
          "base_uri": "https://localhost:8080/",
          "height": 35
        }
      },
      "source": [
        "from sklearn.metrics import mean_squared_error,r2_score\n",
        "rmse = np.sqrt(mean_squared_error(y_test, pred))\n",
        "print(\"LSTM RMSE\",rmse)\n",
        "# results['LSTM'] = {'RMSE': rmse, 'Training Time': train_time.total_seconds()}"
      ],
      "execution_count": 0,
      "outputs": [
        {
          "output_type": "stream",
          "text": [
            "LSTM RMSE 1.8725234983758066\n"
          ],
          "name": "stdout"
        }
      ]
    },
    {
      "cell_type": "code",
      "metadata": {
        "id": "MwGCzpDwwZMq",
        "colab_type": "code",
        "colab": {}
      },
      "source": [
        "# rpred = pred.reshape(pred.shape[0],)\n",
        "# create_lift(outcome=y_test, model_proba=rpred, precision = 2, vis = True)"
      ],
      "execution_count": 0,
      "outputs": []
    },
    {
      "cell_type": "code",
      "metadata": {
        "id": "Itq1emllKW_c",
        "colab_type": "code",
        "outputId": "5b628eb1-64a7-4c20-f29e-56654c4edfb6",
        "colab": {
          "base_uri": "https://localhost:8080/",
          "height": 288
        }
      },
      "source": [
        "aa=[x for x in range(150,200)]\n",
        "plt.plot(aa, y_test[150:200], marker='o', label=\"actual\")\n",
        "plt.plot(aa, pred[150:200], 'x', label=\"prediction\")\n",
        "\n",
        "plt.xlabel('Time step', size=15)\n",
        "plt.legend(fontsize=15)\n",
        "plt.show()\n"
      ],
      "execution_count": 0,
      "outputs": [
        {
          "output_type": "display_data",
          "data": {
            "image/png": "[encoded data removed]",
            "text/plain": [
              "<Figure size 432x288 with 1 Axes>"
            ]
          },
          "metadata": {
            "tags": []
          }
        }
      ]
    },
    {
      "cell_type": "code",
      "metadata": {
        "id": "pP1uNHSRvv_Y",
        "colab_type": "code",
        "colab": {}
      },
      "source": [
        "def chart_regression(y,pred,sort=True):\n",
        "    t = pd.DataFrame({'pred' : pred, 'y' : y})\n",
        "    if sort:\n",
        "        t.sort_values(by=['y'],inplace=True)\n",
        "    a = plt.plot(t['y'].tolist(),label='expected')\n",
        "    b = plt.plot(t['pred'].tolist(),label='prediction')\n",
        "    plt.ylabel('output')\n",
        "    plt.legend()\n",
        "    plt.show()"
      ],
      "execution_count": 0,
      "outputs": []
    },
    {
      "cell_type": "code",
      "metadata": {
        "id": "inexKsrcqaS5",
        "colab_type": "code",
        "outputId": "b9facb65-3019-45b3-c0e7-5f39ebbf81fc",
        "colab": {
          "base_uri": "https://localhost:8080/",
          "height": 269
        }
      },
      "source": [
        "chart_regression(list(y_test), list(pred))"
      ],
      "execution_count": 0,
      "outputs": [
        {
          "output_type": "display_data",
          "data": {
            "image/png": "[encoded data removed]",
            "text/plain": [
              "<Figure size 432x288 with 1 Axes>"
            ]
          },
          "metadata": {
            "tags": []
          }
        }
      ]
    },
    {
      "cell_type": "code",
      "metadata": {
        "id": "oV9GAlGT4I9N",
        "colab_type": "code",
        "outputId": "e89de5c3-d4a4-48d9-e12f-8f1ae8410fa8",
        "colab": {
          "base_uri": "https://localhost:8080/",
          "height": 269
        }
      },
      "source": [
        "pred_all = model.predict(XT)\n",
        "chart_regression(list(YT), list(pred_all), sort = False)"
      ],
      "execution_count": 0,
      "outputs": [
        {
          "output_type": "display_data",
          "data": {
            "image/png": "[encoded data removed]",
            "text/plain": [
              "<Figure size 432x288 with 1 Axes>"
            ]
          },
          "metadata": {
            "tags": []
          }
        }
      ]
    }
  ]
}